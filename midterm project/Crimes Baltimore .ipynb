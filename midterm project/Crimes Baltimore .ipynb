{
 "cells": [
  {
   "cell_type": "markdown",
   "metadata": {},
   "source": [
    "Data https://data.world/data-society/city-of-baltimore-crime-data\n"
   ]
  },
  {
   "cell_type": "markdown",
   "metadata": {},
   "source": [
    "This dataset contains information about crimes of baltimore city"
   ]
  },
  {
   "cell_type": "code",
   "execution_count": 1,
   "metadata": {},
   "outputs": [],
   "source": [
    "#https://www.kaggle.com/bburnet/baltimore-crime-eda-visualization-folium-map\n",
    "import pandas as pd\n",
    "import numpy as np\n",
    "import matplotlib.pyplot as plt\n",
    "import seaborn as sns"
   ]
  },
  {
   "cell_type": "code",
   "execution_count": 2,
   "metadata": {},
   "outputs": [
    {
     "name": "stdout",
     "output_type": "stream",
     "text": [
      "<class 'pandas.core.frame.DataFrame'>\n",
      "RangeIndex: 276529 entries, 0 to 276528\n",
      "Data columns (total 15 columns):\n",
      " #   Column           Non-Null Count   Dtype  \n",
      "---  ------           --------------   -----  \n",
      " 0   CrimeDate        276529 non-null  object \n",
      " 1   CrimeTime        276529 non-null  object \n",
      " 2   CrimeCode        276529 non-null  object \n",
      " 3   Location         274322 non-null  object \n",
      " 4   Description      276529 non-null  object \n",
      " 5   Inside/Outside   266250 non-null  object \n",
      " 6   Weapon           95577 non-null   object \n",
      " 7   Post             276305 non-null  float64\n",
      " 8   District         276449 non-null  object \n",
      " 9   Neighborhood     273789 non-null  object \n",
      " 10  Longitude        274325 non-null  float64\n",
      " 11  Latitude         274325 non-null  float64\n",
      " 12  Location 1       274325 non-null  object \n",
      " 13  Premise          265772 non-null  object \n",
      " 14  Total Incidents  276529 non-null  int64  \n",
      "dtypes: float64(3), int64(1), object(11)\n",
      "memory usage: 31.6+ MB\n"
     ]
    }
   ],
   "source": [
    "data=pd.read_csv(\"CrimeBaltimore.csv\")\n",
    "data.info()"
   ]
  },
  {
   "cell_type": "code",
   "execution_count": 3,
   "metadata": {},
   "outputs": [
    {
     "data": {
      "text/html": [
       "<div>\n",
       "<style scoped>\n",
       "    .dataframe tbody tr th:only-of-type {\n",
       "        vertical-align: middle;\n",
       "    }\n",
       "\n",
       "    .dataframe tbody tr th {\n",
       "        vertical-align: top;\n",
       "    }\n",
       "\n",
       "    .dataframe thead th {\n",
       "        text-align: right;\n",
       "    }\n",
       "</style>\n",
       "<table border=\"1\" class=\"dataframe\">\n",
       "  <thead>\n",
       "    <tr style=\"text-align: right;\">\n",
       "      <th></th>\n",
       "      <th>CrimeDate</th>\n",
       "      <th>CrimeTime</th>\n",
       "      <th>CrimeCode</th>\n",
       "      <th>Location</th>\n",
       "      <th>Description</th>\n",
       "      <th>Inside/Outside</th>\n",
       "      <th>Weapon</th>\n",
       "      <th>Post</th>\n",
       "      <th>District</th>\n",
       "      <th>Neighborhood</th>\n",
       "      <th>Longitude</th>\n",
       "      <th>Latitude</th>\n",
       "      <th>Location 1</th>\n",
       "      <th>Premise</th>\n",
       "      <th>Total Incidents</th>\n",
       "    </tr>\n",
       "  </thead>\n",
       "  <tbody>\n",
       "    <tr>\n",
       "      <th>0</th>\n",
       "      <td>09/02/2017</td>\n",
       "      <td>23:30:00</td>\n",
       "      <td>3JK</td>\n",
       "      <td>4200 AUDREY AVE</td>\n",
       "      <td>ROBBERY - RESIDENCE</td>\n",
       "      <td>I</td>\n",
       "      <td>KNIFE</td>\n",
       "      <td>913.0</td>\n",
       "      <td>SOUTHERN</td>\n",
       "      <td>Brooklyn</td>\n",
       "      <td>-76.60541</td>\n",
       "      <td>39.22951</td>\n",
       "      <td>(39.2295100000, -76.6054100000)</td>\n",
       "      <td>ROW/TOWNHO</td>\n",
       "      <td>1</td>\n",
       "    </tr>\n",
       "    <tr>\n",
       "      <th>1</th>\n",
       "      <td>09/02/2017</td>\n",
       "      <td>23:00:00</td>\n",
       "      <td>7A</td>\n",
       "      <td>800 NEWINGTON AVE</td>\n",
       "      <td>AUTO THEFT</td>\n",
       "      <td>O</td>\n",
       "      <td>NaN</td>\n",
       "      <td>133.0</td>\n",
       "      <td>CENTRAL</td>\n",
       "      <td>Reservoir Hill</td>\n",
       "      <td>-76.63217</td>\n",
       "      <td>39.31360</td>\n",
       "      <td>(39.3136000000, -76.6321700000)</td>\n",
       "      <td>STREET</td>\n",
       "      <td>1</td>\n",
       "    </tr>\n",
       "    <tr>\n",
       "      <th>2</th>\n",
       "      <td>09/02/2017</td>\n",
       "      <td>22:53:00</td>\n",
       "      <td>9S</td>\n",
       "      <td>600 RADNOR AV</td>\n",
       "      <td>SHOOTING</td>\n",
       "      <td>Outside</td>\n",
       "      <td>FIREARM</td>\n",
       "      <td>524.0</td>\n",
       "      <td>NORTHERN</td>\n",
       "      <td>Winston-Govans</td>\n",
       "      <td>-76.60697</td>\n",
       "      <td>39.34768</td>\n",
       "      <td>(39.3476800000, -76.6069700000)</td>\n",
       "      <td>Street</td>\n",
       "      <td>1</td>\n",
       "    </tr>\n",
       "    <tr>\n",
       "      <th>3</th>\n",
       "      <td>09/02/2017</td>\n",
       "      <td>22:50:00</td>\n",
       "      <td>4C</td>\n",
       "      <td>1800 RAMSAY ST</td>\n",
       "      <td>AGG. ASSAULT</td>\n",
       "      <td>I</td>\n",
       "      <td>OTHER</td>\n",
       "      <td>934.0</td>\n",
       "      <td>SOUTHERN</td>\n",
       "      <td>Carrollton Ridge</td>\n",
       "      <td>-76.64526</td>\n",
       "      <td>39.28315</td>\n",
       "      <td>(39.2831500000, -76.6452600000)</td>\n",
       "      <td>ROW/TOWNHO</td>\n",
       "      <td>1</td>\n",
       "    </tr>\n",
       "    <tr>\n",
       "      <th>4</th>\n",
       "      <td>09/02/2017</td>\n",
       "      <td>22:31:00</td>\n",
       "      <td>4E</td>\n",
       "      <td>100 LIGHT ST</td>\n",
       "      <td>COMMON ASSAULT</td>\n",
       "      <td>O</td>\n",
       "      <td>HANDS</td>\n",
       "      <td>113.0</td>\n",
       "      <td>CENTRAL</td>\n",
       "      <td>Downtown West</td>\n",
       "      <td>-76.61365</td>\n",
       "      <td>39.28756</td>\n",
       "      <td>(39.2875600000, -76.6136500000)</td>\n",
       "      <td>STREET</td>\n",
       "      <td>1</td>\n",
       "    </tr>\n",
       "  </tbody>\n",
       "</table>\n",
       "</div>"
      ],
      "text/plain": [
       "    CrimeDate CrimeTime CrimeCode           Location          Description  \\\n",
       "0  09/02/2017  23:30:00       3JK    4200 AUDREY AVE  ROBBERY - RESIDENCE   \n",
       "1  09/02/2017  23:00:00        7A  800 NEWINGTON AVE           AUTO THEFT   \n",
       "2  09/02/2017  22:53:00        9S      600 RADNOR AV             SHOOTING   \n",
       "3  09/02/2017  22:50:00        4C     1800 RAMSAY ST         AGG. ASSAULT   \n",
       "4  09/02/2017  22:31:00        4E       100 LIGHT ST       COMMON ASSAULT   \n",
       "\n",
       "  Inside/Outside   Weapon   Post  District      Neighborhood  Longitude  \\\n",
       "0              I    KNIFE  913.0  SOUTHERN          Brooklyn  -76.60541   \n",
       "1              O      NaN  133.0   CENTRAL    Reservoir Hill  -76.63217   \n",
       "2        Outside  FIREARM  524.0  NORTHERN    Winston-Govans  -76.60697   \n",
       "3              I    OTHER  934.0  SOUTHERN  Carrollton Ridge  -76.64526   \n",
       "4              O    HANDS  113.0   CENTRAL     Downtown West  -76.61365   \n",
       "\n",
       "   Latitude                       Location 1     Premise  Total Incidents  \n",
       "0  39.22951  (39.2295100000, -76.6054100000)  ROW/TOWNHO                1  \n",
       "1  39.31360  (39.3136000000, -76.6321700000)      STREET                1  \n",
       "2  39.34768  (39.3476800000, -76.6069700000)      Street                1  \n",
       "3  39.28315  (39.2831500000, -76.6452600000)  ROW/TOWNHO                1  \n",
       "4  39.28756  (39.2875600000, -76.6136500000)      STREET                1  "
      ]
     },
     "execution_count": 3,
     "metadata": {},
     "output_type": "execute_result"
    }
   ],
   "source": [
    "data.head()"
   ]
  },
  {
   "cell_type": "code",
   "execution_count": 4,
   "metadata": {},
   "outputs": [
    {
     "data": {
      "text/html": [
       "<div>\n",
       "<style scoped>\n",
       "    .dataframe tbody tr th:only-of-type {\n",
       "        vertical-align: middle;\n",
       "    }\n",
       "\n",
       "    .dataframe tbody tr th {\n",
       "        vertical-align: top;\n",
       "    }\n",
       "\n",
       "    .dataframe thead th {\n",
       "        text-align: right;\n",
       "    }\n",
       "</style>\n",
       "<table border=\"1\" class=\"dataframe\">\n",
       "  <thead>\n",
       "    <tr style=\"text-align: right;\">\n",
       "      <th></th>\n",
       "      <th>Post</th>\n",
       "      <th>Longitude</th>\n",
       "      <th>Latitude</th>\n",
       "      <th>Total Incidents</th>\n",
       "    </tr>\n",
       "  </thead>\n",
       "  <tbody>\n",
       "    <tr>\n",
       "      <th>count</th>\n",
       "      <td>276305.000000</td>\n",
       "      <td>274325.000000</td>\n",
       "      <td>274325.000000</td>\n",
       "      <td>276529.0</td>\n",
       "    </tr>\n",
       "    <tr>\n",
       "      <th>mean</th>\n",
       "      <td>506.256821</td>\n",
       "      <td>-76.617444</td>\n",
       "      <td>39.307399</td>\n",
       "      <td>1.0</td>\n",
       "    </tr>\n",
       "    <tr>\n",
       "      <th>std</th>\n",
       "      <td>260.735370</td>\n",
       "      <td>0.042306</td>\n",
       "      <td>0.029556</td>\n",
       "      <td>0.0</td>\n",
       "    </tr>\n",
       "    <tr>\n",
       "      <th>min</th>\n",
       "      <td>2.000000</td>\n",
       "      <td>-76.711620</td>\n",
       "      <td>39.200410</td>\n",
       "      <td>1.0</td>\n",
       "    </tr>\n",
       "    <tr>\n",
       "      <th>25%</th>\n",
       "      <td>243.000000</td>\n",
       "      <td>-76.648460</td>\n",
       "      <td>39.288330</td>\n",
       "      <td>1.0</td>\n",
       "    </tr>\n",
       "    <tr>\n",
       "      <th>50%</th>\n",
       "      <td>511.000000</td>\n",
       "      <td>-76.613960</td>\n",
       "      <td>39.303640</td>\n",
       "      <td>1.0</td>\n",
       "    </tr>\n",
       "    <tr>\n",
       "      <th>75%</th>\n",
       "      <td>731.000000</td>\n",
       "      <td>-76.587440</td>\n",
       "      <td>39.327810</td>\n",
       "      <td>1.0</td>\n",
       "    </tr>\n",
       "    <tr>\n",
       "      <th>max</th>\n",
       "      <td>945.000000</td>\n",
       "      <td>-76.528500</td>\n",
       "      <td>39.372930</td>\n",
       "      <td>1.0</td>\n",
       "    </tr>\n",
       "  </tbody>\n",
       "</table>\n",
       "</div>"
      ],
      "text/plain": [
       "                Post      Longitude       Latitude  Total Incidents\n",
       "count  276305.000000  274325.000000  274325.000000         276529.0\n",
       "mean      506.256821     -76.617444      39.307399              1.0\n",
       "std       260.735370       0.042306       0.029556              0.0\n",
       "min         2.000000     -76.711620      39.200410              1.0\n",
       "25%       243.000000     -76.648460      39.288330              1.0\n",
       "50%       511.000000     -76.613960      39.303640              1.0\n",
       "75%       731.000000     -76.587440      39.327810              1.0\n",
       "max       945.000000     -76.528500      39.372930              1.0"
      ]
     },
     "execution_count": 4,
     "metadata": {},
     "output_type": "execute_result"
    }
   ],
   "source": [
    "data.describe()"
   ]
  },
  {
   "cell_type": "markdown",
   "metadata": {},
   "source": [
    "### Data Description"
   ]
  },
  {
   "cell_type": "markdown",
   "metadata": {},
   "source": [
    "CrimeDate - Date when crime took place   \n",
    "CrimeTime - Time when crime has happened    \n",
    "CrimeCode - Code of crime  \n",
    "Location - Location  \n",
    "Description - Description about the crime  \n",
    "Inside/Outside - Whether crime has occured inside or outside  \n",
    "Weapon - Weapon used for crime  \n",
    "Premise - Premise of crime location(Townhouse, Downtown, Hills etc)  \n",
    "District - District  \n",
    "Neighborhood - Neighborhood  \n",
    "Longitude - Longitude of crime location \n",
    "Latitude - Latitude of crime location\n",
    "Total Incidents - Number of incidents took place  "
   ]
  },
  {
   "cell_type": "code",
   "execution_count": 5,
   "metadata": {},
   "outputs": [
    {
     "data": {
      "text/plain": [
       "(276529, 15)"
      ]
     },
     "execution_count": 5,
     "metadata": {},
     "output_type": "execute_result"
    }
   ],
   "source": [
    "# Shape of data\n",
    "data.shape"
   ]
  },
  {
   "cell_type": "code",
   "execution_count": 6,
   "metadata": {},
   "outputs": [
    {
     "data": {
      "text/plain": [
       "Index(['CrimeDate', 'CrimeTime', 'CrimeCode', 'Location', 'Description',\n",
       "       'Inside/Outside', 'Weapon', 'Post', 'District', 'Neighborhood',\n",
       "       'Longitude', 'Latitude', 'Location 1', 'Premise', 'Total Incidents'],\n",
       "      dtype='object')"
      ]
     },
     "execution_count": 6,
     "metadata": {},
     "output_type": "execute_result"
    }
   ],
   "source": [
    "# Columns \n",
    "data.columns"
   ]
  },
  {
   "cell_type": "code",
   "execution_count": 7,
   "metadata": {},
   "outputs": [
    {
     "data": {
      "text/plain": [
       "CrimeDate           object\n",
       "CrimeTime           object\n",
       "CrimeCode           object\n",
       "Location            object\n",
       "Description         object\n",
       "Inside/Outside      object\n",
       "Weapon              object\n",
       "Post               float64\n",
       "District            object\n",
       "Neighborhood        object\n",
       "Longitude          float64\n",
       "Latitude           float64\n",
       "Location 1          object\n",
       "Premise             object\n",
       "Total Incidents      int64\n",
       "dtype: object"
      ]
     },
     "execution_count": 7,
     "metadata": {},
     "output_type": "execute_result"
    }
   ],
   "source": [
    "# Datatypes of each column\n",
    "data.dtypes"
   ]
  },
  {
   "cell_type": "code",
   "execution_count": 8,
   "metadata": {},
   "outputs": [
    {
     "name": "stdout",
     "output_type": "stream",
     "text": [
      " Unique Districts : ['SOUTHERN' 'CENTRAL' 'NORTHERN' 'SOUTHEASTERN' 'NORTHWESTERN' 'EASTERN'\n",
      " 'SOUTHWESTERN' 'NORTHEASTERN' 'WESTERN' nan]\n"
     ]
    }
   ],
   "source": [
    "# Unique districts in maryland\n",
    "print(f\" Unique Districts : {data['District'].unique()}\")"
   ]
  },
  {
   "cell_type": "code",
   "execution_count": 9,
   "metadata": {},
   "outputs": [
    {
     "data": {
      "text/plain": [
       "array(['I', 'O', 'Outside', nan, 'Inside'], dtype=object)"
      ]
     },
     "execution_count": 9,
     "metadata": {},
     "output_type": "execute_result"
    }
   ],
   "source": [
    "data['Inside/Outside'].unique()"
   ]
  },
  {
   "cell_type": "markdown",
   "metadata": {},
   "source": [
    "Here Outside, Inside should be mapped to O or I"
   ]
  },
  {
   "cell_type": "code",
   "execution_count": 10,
   "metadata": {},
   "outputs": [],
   "source": [
    "data['Inside/Outside']=data['Inside/Outside'].map({\"I\":\"Inside\",\"O\":\"Outside\"})"
   ]
  },
  {
   "cell_type": "code",
   "execution_count": 11,
   "metadata": {},
   "outputs": [
    {
     "data": {
      "text/plain": [
       "array(['Inside', 'Outside', nan], dtype=object)"
      ]
     },
     "execution_count": 11,
     "metadata": {},
     "output_type": "execute_result"
    }
   ],
   "source": [
    "# Now unnecessary columns were removed\n",
    "data['Inside/Outside'].unique()"
   ]
  },
  {
   "cell_type": "code",
   "execution_count": 12,
   "metadata": {},
   "outputs": [
    {
     "data": {
      "text/plain": [
       "Inside     131999\n",
       "Outside    129782\n",
       "Name: Inside/Outside, dtype: int64"
      ]
     },
     "execution_count": 12,
     "metadata": {},
     "output_type": "execute_result"
    }
   ],
   "source": [
    "data['Inside/Outside'].value_counts()"
   ]
  },
  {
   "cell_type": "markdown",
   "metadata": {},
   "source": [
    "### Determining missing values"
   ]
  },
  {
   "cell_type": "code",
   "execution_count": 13,
   "metadata": {},
   "outputs": [
    {
     "data": {
      "text/plain": [
       "True"
      ]
     },
     "execution_count": 13,
     "metadata": {},
     "output_type": "execute_result"
    }
   ],
   "source": [
    "# Check whether dataset contains missing values or not\n",
    "data.isna().sum().any()"
   ]
  },
  {
   "cell_type": "code",
   "execution_count": 14,
   "metadata": {},
   "outputs": [
    {
     "data": {
      "text/plain": [
       "CrimeDate          False\n",
       "CrimeTime          False\n",
       "CrimeCode          False\n",
       "Location            True\n",
       "Description        False\n",
       "Inside/Outside      True\n",
       "Weapon              True\n",
       "Post                True\n",
       "District            True\n",
       "Neighborhood        True\n",
       "Longitude           True\n",
       "Latitude            True\n",
       "Location 1          True\n",
       "Premise             True\n",
       "Total Incidents    False\n",
       "dtype: bool"
      ]
     },
     "execution_count": 14,
     "metadata": {},
     "output_type": "execute_result"
    }
   ],
   "source": [
    "# Check for columns which are missing values\n",
    "data.isna().any()"
   ]
  },
  {
   "cell_type": "code",
   "execution_count": 15,
   "metadata": {},
   "outputs": [
    {
     "data": {
      "text/plain": [
       "CrimeDate               0\n",
       "CrimeTime               0\n",
       "CrimeCode               0\n",
       "Location             2207\n",
       "Description             0\n",
       "Inside/Outside      14748\n",
       "Weapon             180952\n",
       "Post                  224\n",
       "District               80\n",
       "Neighborhood         2740\n",
       "Longitude            2204\n",
       "Latitude             2204\n",
       "Location 1           2204\n",
       "Premise             10757\n",
       "Total Incidents         0\n",
       "dtype: int64"
      ]
     },
     "execution_count": 15,
     "metadata": {},
     "output_type": "execute_result"
    }
   ],
   "source": [
    "# Check for missing values\n",
    "data.isna().sum()"
   ]
  },
  {
   "cell_type": "markdown",
   "metadata": {},
   "source": [
    "### Visualization of missing values"
   ]
  },
  {
   "cell_type": "code",
   "execution_count": 16,
   "metadata": {},
   "outputs": [
    {
     "data": {
      "text/plain": [
       "<AxesSubplot:>"
      ]
     },
     "execution_count": 16,
     "metadata": {},
     "output_type": "execute_result"
    },
    {
     "data": {
      "image/png": "[encoded data removed]",
      "text/plain": [
       "<Figure size 432x288 with 1 Axes>"
      ]
     },
     "metadata": {
      "needs_background": "light"
     },
     "output_type": "display_data"
    }
   ],
   "source": [
    "sns.heatmap(data.isna(),cbar=False,cmap='viridis')"
   ]
  },
  {
   "cell_type": "markdown",
   "metadata": {},
   "source": [
    "Out of all columns weapon has more number of missing values"
   ]
  },
  {
   "cell_type": "code",
   "execution_count": 17,
   "metadata": {},
   "outputs": [
    {
     "data": {
      "text/plain": [
       "CrimeDate           0.000000\n",
       "CrimeTime           0.000000\n",
       "CrimeCode           0.000000\n",
       "Location            0.798108\n",
       "Description         0.000000\n",
       "Inside/Outside      5.333256\n",
       "Weapon             65.436898\n",
       "Post                0.081004\n",
       "District            0.028930\n",
       "Neighborhood        0.990854\n",
       "Longitude           0.797023\n",
       "Latitude            0.797023\n",
       "Location 1          0.797023\n",
       "Premise             3.890008\n",
       "Total Incidents     0.000000\n",
       "dtype: float64"
      ]
     },
     "execution_count": 17,
     "metadata": {},
     "output_type": "execute_result"
    }
   ],
   "source": [
    "#Frequency of missing values\n",
    "freq=data.isna().sum()/(len(data))*100\n",
    "freq"
   ]
  },
  {
   "cell_type": "markdown",
   "metadata": {},
   "source": [
    "### Rename columns"
   ]
  },
  {
   "cell_type": "code",
   "execution_count": 18,
   "metadata": {},
   "outputs": [],
   "source": [
    "data = data.rename(columns={\"Location\":\"CrimeLocation\"})"
   ]
  },
  {
   "cell_type": "code",
   "execution_count": 19,
   "metadata": {},
   "outputs": [
    {
     "data": {
      "text/plain": [
       "Index(['CrimeDate', 'CrimeTime', 'CrimeCode', 'CrimeLocation', 'Description',\n",
       "       'Inside/Outside', 'Weapon', 'Post', 'District', 'Neighborhood',\n",
       "       'Longitude', 'Latitude', 'Location 1', 'Premise', 'Total Incidents'],\n",
       "      dtype='object')"
      ]
     },
     "execution_count": 19,
     "metadata": {},
     "output_type": "execute_result"
    }
   ],
   "source": [
    "data.columns"
   ]
  },
  {
   "cell_type": "markdown",
   "metadata": {},
   "source": [
    "### Check the data types. Which columns are coded to the incorrect type? If any, correct them."
   ]
  },
  {
   "cell_type": "code",
   "execution_count": 20,
   "metadata": {},
   "outputs": [
    {
     "data": {
      "text/plain": [
       "dtype('<M8[ns]')"
      ]
     },
     "execution_count": 20,
     "metadata": {},
     "output_type": "execute_result"
    }
   ],
   "source": [
    "# Convert CrimeDate object to datetime\n",
    "data['CrimeDate']=pd.to_datetime(data['CrimeDate'])\n",
    "data['CrimeDate'].dtypes"
   ]
  },
  {
   "cell_type": "code",
   "execution_count": 21,
   "metadata": {},
   "outputs": [
    {
     "data": {
      "text/plain": [
       "CrimeDate          datetime64[ns]\n",
       "CrimeTime                  object\n",
       "CrimeCode                  object\n",
       "CrimeLocation              object\n",
       "Description                object\n",
       "Inside/Outside             object\n",
       "Weapon                     object\n",
       "Post                      float64\n",
       "District                   object\n",
       "Neighborhood               object\n",
       "Longitude                 float64\n",
       "Latitude                  float64\n",
       "Location 1                 object\n",
       "Premise                    object\n",
       "Total Incidents             int64\n",
       "dtype: object"
      ]
     },
     "execution_count": 21,
     "metadata": {},
     "output_type": "execute_result"
    }
   ],
   "source": [
    "data.dtypes"
   ]
  },
  {
   "cell_type": "markdown",
   "metadata": {},
   "source": [
    "### Exploratory Data Analysis\n"
   ]
  },
  {
   "cell_type": "code",
   "execution_count": 22,
   "metadata": {},
   "outputs": [
    {
     "data": {
      "text/plain": [
       "<AxesSubplot:xlabel='Inside/Outside', ylabel='count'>"
      ]
     },
     "execution_count": 22,
     "metadata": {},
     "output_type": "execute_result"
    },
    {
     "data": {
      "image/png": "[encoded data removed]",
      "text/plain": [
       "<Figure size 360x360 with 1 Axes>"
      ]
     },
     "metadata": {
      "needs_background": "light"
     },
     "output_type": "display_data"
    }
   ],
   "source": [
    "plt.figure(figsize=(5,5))\n",
    "sns.set_style(\"whitegrid\")\n",
    "sns.countplot(x=\"Inside/Outside\",data=data)"
   ]
  },
  {
   "cell_type": "markdown",
   "metadata": {},
   "source": [
    "Total count of crimes are almost same(Inside and Outside)"
   ]
  },
  {
   "cell_type": "markdown",
   "metadata": {},
   "source": [
    "Let's make a seperate dataframe for weapon null values"
   ]
  },
  {
   "cell_type": "code",
   "execution_count": 23,
   "metadata": {},
   "outputs": [
    {
     "data": {
      "text/html": [
       "<div>\n",
       "<style scoped>\n",
       "    .dataframe tbody tr th:only-of-type {\n",
       "        vertical-align: middle;\n",
       "    }\n",
       "\n",
       "    .dataframe tbody tr th {\n",
       "        vertical-align: top;\n",
       "    }\n",
       "\n",
       "    .dataframe thead th {\n",
       "        text-align: right;\n",
       "    }\n",
       "</style>\n",
       "<table border=\"1\" class=\"dataframe\">\n",
       "  <thead>\n",
       "    <tr style=\"text-align: right;\">\n",
       "      <th></th>\n",
       "      <th>CrimeDate</th>\n",
       "      <th>CrimeTime</th>\n",
       "      <th>CrimeCode</th>\n",
       "      <th>CrimeLocation</th>\n",
       "      <th>Description</th>\n",
       "      <th>Inside/Outside</th>\n",
       "      <th>Weapon</th>\n",
       "      <th>Post</th>\n",
       "      <th>District</th>\n",
       "      <th>Neighborhood</th>\n",
       "      <th>Longitude</th>\n",
       "      <th>Latitude</th>\n",
       "      <th>Location 1</th>\n",
       "      <th>Premise</th>\n",
       "      <th>Total Incidents</th>\n",
       "    </tr>\n",
       "  </thead>\n",
       "  <tbody>\n",
       "    <tr>\n",
       "      <th>1</th>\n",
       "      <td>2017-09-02</td>\n",
       "      <td>23:00:00</td>\n",
       "      <td>7A</td>\n",
       "      <td>800 NEWINGTON AVE</td>\n",
       "      <td>AUTO THEFT</td>\n",
       "      <td>Outside</td>\n",
       "      <td>NaN</td>\n",
       "      <td>133.0</td>\n",
       "      <td>CENTRAL</td>\n",
       "      <td>Reservoir Hill</td>\n",
       "      <td>-76.63217</td>\n",
       "      <td>39.31360</td>\n",
       "      <td>(39.3136000000, -76.6321700000)</td>\n",
       "      <td>STREET</td>\n",
       "      <td>1</td>\n",
       "    </tr>\n",
       "    <tr>\n",
       "      <th>5</th>\n",
       "      <td>2017-09-02</td>\n",
       "      <td>22:00:00</td>\n",
       "      <td>5A</td>\n",
       "      <td>CHERRYCREST RD</td>\n",
       "      <td>BURGLARY</td>\n",
       "      <td>Inside</td>\n",
       "      <td>NaN</td>\n",
       "      <td>922.0</td>\n",
       "      <td>SOUTHERN</td>\n",
       "      <td>Cherry Hill</td>\n",
       "      <td>-76.62131</td>\n",
       "      <td>39.24867</td>\n",
       "      <td>(39.2486700000, -76.6213100000)</td>\n",
       "      <td>ROW/TOWNHO</td>\n",
       "      <td>1</td>\n",
       "    </tr>\n",
       "    <tr>\n",
       "      <th>7</th>\n",
       "      <td>2017-09-02</td>\n",
       "      <td>21:35:00</td>\n",
       "      <td>3B</td>\n",
       "      <td>400 W LANVALE ST</td>\n",
       "      <td>ROBBERY - STREET</td>\n",
       "      <td>Outside</td>\n",
       "      <td>NaN</td>\n",
       "      <td>123.0</td>\n",
       "      <td>CENTRAL</td>\n",
       "      <td>Upton</td>\n",
       "      <td>-76.62789</td>\n",
       "      <td>39.30254</td>\n",
       "      <td>(39.3025400000, -76.6278900000)</td>\n",
       "      <td>STREET</td>\n",
       "      <td>1</td>\n",
       "    </tr>\n",
       "    <tr>\n",
       "      <th>12</th>\n",
       "      <td>2017-09-02</td>\n",
       "      <td>20:55:00</td>\n",
       "      <td>6C</td>\n",
       "      <td>5100 PARK HEIGHTS AVE</td>\n",
       "      <td>LARCENY</td>\n",
       "      <td>NaN</td>\n",
       "      <td>NaN</td>\n",
       "      <td>614.0</td>\n",
       "      <td>NORTHWESTERN</td>\n",
       "      <td>Central Park Heights</td>\n",
       "      <td>-76.67511</td>\n",
       "      <td>39.34861</td>\n",
       "      <td>(39.3486100000, -76.6751100000)</td>\n",
       "      <td>NaN</td>\n",
       "      <td>1</td>\n",
       "    </tr>\n",
       "    <tr>\n",
       "      <th>14</th>\n",
       "      <td>2017-09-02</td>\n",
       "      <td>20:00:00</td>\n",
       "      <td>6D</td>\n",
       "      <td>5500 SUMMERFIELD AVE</td>\n",
       "      <td>LARCENY FROM AUTO</td>\n",
       "      <td>Outside</td>\n",
       "      <td>NaN</td>\n",
       "      <td>444.0</td>\n",
       "      <td>NORTHEASTERN</td>\n",
       "      <td>Frankford</td>\n",
       "      <td>-76.54270</td>\n",
       "      <td>39.33288</td>\n",
       "      <td>(39.3328800000, -76.5427000000)</td>\n",
       "      <td>YARD</td>\n",
       "      <td>1</td>\n",
       "    </tr>\n",
       "  </tbody>\n",
       "</table>\n",
       "</div>"
      ],
      "text/plain": [
       "    CrimeDate CrimeTime CrimeCode          CrimeLocation        Description  \\\n",
       "1  2017-09-02  23:00:00        7A      800 NEWINGTON AVE         AUTO THEFT   \n",
       "5  2017-09-02  22:00:00        5A         CHERRYCREST RD           BURGLARY   \n",
       "7  2017-09-02  21:35:00        3B       400 W LANVALE ST   ROBBERY - STREET   \n",
       "12 2017-09-02  20:55:00        6C  5100 PARK HEIGHTS AVE            LARCENY   \n",
       "14 2017-09-02  20:00:00        6D   5500 SUMMERFIELD AVE  LARCENY FROM AUTO   \n",
       "\n",
       "   Inside/Outside Weapon   Post      District          Neighborhood  \\\n",
       "1         Outside    NaN  133.0       CENTRAL        Reservoir Hill   \n",
       "5          Inside    NaN  922.0      SOUTHERN           Cherry Hill   \n",
       "7         Outside    NaN  123.0       CENTRAL                 Upton   \n",
       "12            NaN    NaN  614.0  NORTHWESTERN  Central Park Heights   \n",
       "14        Outside    NaN  444.0  NORTHEASTERN             Frankford   \n",
       "\n",
       "    Longitude  Latitude                       Location 1     Premise  \\\n",
       "1   -76.63217  39.31360  (39.3136000000, -76.6321700000)      STREET   \n",
       "5   -76.62131  39.24867  (39.2486700000, -76.6213100000)  ROW/TOWNHO   \n",
       "7   -76.62789  39.30254  (39.3025400000, -76.6278900000)      STREET   \n",
       "12  -76.67511  39.34861  (39.3486100000, -76.6751100000)         NaN   \n",
       "14  -76.54270  39.33288  (39.3328800000, -76.5427000000)        YARD   \n",
       "\n",
       "    Total Incidents  \n",
       "1                 1  \n",
       "5                 1  \n",
       "7                 1  \n",
       "12                1  \n",
       "14                1  "
      ]
     },
     "execution_count": 23,
     "metadata": {},
     "output_type": "execute_result"
    }
   ],
   "source": [
    "data1=data[data['Weapon'].isnull()]\n",
    "data1.head()"
   ]
  },
  {
   "cell_type": "code",
   "execution_count": 24,
   "metadata": {},
   "outputs": [
    {
     "data": {
      "text/plain": [
       "Series([], Name: Weapon, dtype: int64)"
      ]
     },
     "execution_count": 24,
     "metadata": {},
     "output_type": "execute_result"
    }
   ],
   "source": [
    "data1['Weapon'].value_counts()"
   ]
  },
  {
   "cell_type": "code",
   "execution_count": 25,
   "metadata": {},
   "outputs": [
    {
     "data": {
      "text/plain": [
       "<AxesSubplot:xlabel='count', ylabel='Description'>"
      ]
     },
     "execution_count": 25,
     "metadata": {},
     "output_type": "execute_result"
    },
    {
     "data": {
      "image/png": "[encoded data removed]",
      "text/plain": [
       "<Figure size 720x360 with 1 Axes>"
      ]
     },
     "metadata": {},
     "output_type": "display_data"
    }
   ],
   "source": [
    "plt.figure(figsize=(10,5))\n",
    "sns.countplot(y = data['Description'])  #Original dataset"
   ]
  },
  {
   "cell_type": "code",
   "execution_count": 26,
   "metadata": {},
   "outputs": [
    {
     "data": {
      "text/plain": [
       "<AxesSubplot:xlabel='count', ylabel='Description'>"
      ]
     },
     "execution_count": 26,
     "metadata": {},
     "output_type": "execute_result"
    },
    {
     "data": {
      "image/png": "[encoded data removed]",
      "text/plain": [
       "<Figure size 720x360 with 1 Axes>"
      ]
     },
     "metadata": {},
     "output_type": "display_data"
    }
   ],
   "source": [
    "plt.figure(figsize=(10,5))\n",
    "sns.countplot(y= data1['Description'])    #Dataset with weapons as null values"
   ]
  },
  {
   "cell_type": "markdown",
   "metadata": {},
   "source": [
    "Comparing the two types of crime committed with weapons versus null weapons, it is reasonable to assume that null values for weapons means that there was no weapon involved. Let's replace the nulls with \"NO WEAPON\"."
   ]
  },
  {
   "cell_type": "code",
   "execution_count": 27,
   "metadata": {},
   "outputs": [],
   "source": [
    "data['Weapon']=data['Weapon'].fillna(\"No Weapon\")"
   ]
  },
  {
   "cell_type": "code",
   "execution_count": 28,
   "metadata": {},
   "outputs": [],
   "source": [
    "# Drop missing values\n",
    "data=data.dropna()"
   ]
  },
  {
   "cell_type": "code",
   "execution_count": 29,
   "metadata": {},
   "outputs": [
    {
     "data": {
      "text/plain": [
       "CrimeDate          0\n",
       "CrimeTime          0\n",
       "CrimeCode          0\n",
       "CrimeLocation      0\n",
       "Description        0\n",
       "Inside/Outside     0\n",
       "Weapon             0\n",
       "Post               0\n",
       "District           0\n",
       "Neighborhood       0\n",
       "Longitude          0\n",
       "Latitude           0\n",
       "Location 1         0\n",
       "Premise            0\n",
       "Total Incidents    0\n",
       "dtype: int64"
      ]
     },
     "execution_count": 29,
     "metadata": {},
     "output_type": "execute_result"
    }
   ],
   "source": [
    "# Now dataset has no missing values\n",
    "data.isna().sum()"
   ]
  },
  {
   "cell_type": "markdown",
   "metadata": {},
   "source": [
    "We already have latitute and longitute so we dont need location 1"
   ]
  },
  {
   "cell_type": "code",
   "execution_count": 30,
   "metadata": {},
   "outputs": [],
   "source": [
    "# Drop location 1 \n",
    "data=data.drop(['Location 1'],axis=1)"
   ]
  },
  {
   "cell_type": "code",
   "execution_count": 31,
   "metadata": {},
   "outputs": [
    {
     "data": {
      "text/plain": [
       "Index(['CrimeDate', 'CrimeTime', 'CrimeCode', 'CrimeLocation', 'Description',\n",
       "       'Inside/Outside', 'Weapon', 'Post', 'District', 'Neighborhood',\n",
       "       'Longitude', 'Latitude', 'Premise', 'Total Incidents'],\n",
       "      dtype='object')"
      ]
     },
     "execution_count": 31,
     "metadata": {},
     "output_type": "execute_result"
    }
   ],
   "source": [
    "data.columns"
   ]
  },
  {
   "cell_type": "markdown",
   "metadata": {},
   "source": [
    "#### Seperate CrimeDate column to date,month and year"
   ]
  },
  {
   "cell_type": "code",
   "execution_count": 32,
   "metadata": {},
   "outputs": [
    {
     "data": {
      "text/html": [
       "<div>\n",
       "<style scoped>\n",
       "    .dataframe tbody tr th:only-of-type {\n",
       "        vertical-align: middle;\n",
       "    }\n",
       "\n",
       "    .dataframe tbody tr th {\n",
       "        vertical-align: top;\n",
       "    }\n",
       "\n",
       "    .dataframe thead th {\n",
       "        text-align: right;\n",
       "    }\n",
       "</style>\n",
       "<table border=\"1\" class=\"dataframe\">\n",
       "  <thead>\n",
       "    <tr style=\"text-align: right;\">\n",
       "      <th></th>\n",
       "      <th>CrimeDate</th>\n",
       "      <th>CrimeTime</th>\n",
       "      <th>CrimeCode</th>\n",
       "      <th>CrimeLocation</th>\n",
       "      <th>Description</th>\n",
       "      <th>Inside/Outside</th>\n",
       "      <th>Weapon</th>\n",
       "      <th>Post</th>\n",
       "      <th>District</th>\n",
       "      <th>Neighborhood</th>\n",
       "      <th>Longitude</th>\n",
       "      <th>Latitude</th>\n",
       "      <th>Premise</th>\n",
       "      <th>Total Incidents</th>\n",
       "    </tr>\n",
       "  </thead>\n",
       "  <tbody>\n",
       "    <tr>\n",
       "      <th>0</th>\n",
       "      <td>2017-09-02</td>\n",
       "      <td>23:30:00</td>\n",
       "      <td>3JK</td>\n",
       "      <td>4200 AUDREY AVE</td>\n",
       "      <td>ROBBERY - RESIDENCE</td>\n",
       "      <td>Inside</td>\n",
       "      <td>KNIFE</td>\n",
       "      <td>913.0</td>\n",
       "      <td>SOUTHERN</td>\n",
       "      <td>Brooklyn</td>\n",
       "      <td>-76.60541</td>\n",
       "      <td>39.22951</td>\n",
       "      <td>ROW/TOWNHO</td>\n",
       "      <td>1</td>\n",
       "    </tr>\n",
       "    <tr>\n",
       "      <th>1</th>\n",
       "      <td>2017-09-02</td>\n",
       "      <td>23:00:00</td>\n",
       "      <td>7A</td>\n",
       "      <td>800 NEWINGTON AVE</td>\n",
       "      <td>AUTO THEFT</td>\n",
       "      <td>Outside</td>\n",
       "      <td>No Weapon</td>\n",
       "      <td>133.0</td>\n",
       "      <td>CENTRAL</td>\n",
       "      <td>Reservoir Hill</td>\n",
       "      <td>-76.63217</td>\n",
       "      <td>39.31360</td>\n",
       "      <td>STREET</td>\n",
       "      <td>1</td>\n",
       "    </tr>\n",
       "    <tr>\n",
       "      <th>3</th>\n",
       "      <td>2017-09-02</td>\n",
       "      <td>22:50:00</td>\n",
       "      <td>4C</td>\n",
       "      <td>1800 RAMSAY ST</td>\n",
       "      <td>AGG. ASSAULT</td>\n",
       "      <td>Inside</td>\n",
       "      <td>OTHER</td>\n",
       "      <td>934.0</td>\n",
       "      <td>SOUTHERN</td>\n",
       "      <td>Carrollton Ridge</td>\n",
       "      <td>-76.64526</td>\n",
       "      <td>39.28315</td>\n",
       "      <td>ROW/TOWNHO</td>\n",
       "      <td>1</td>\n",
       "    </tr>\n",
       "    <tr>\n",
       "      <th>4</th>\n",
       "      <td>2017-09-02</td>\n",
       "      <td>22:31:00</td>\n",
       "      <td>4E</td>\n",
       "      <td>100 LIGHT ST</td>\n",
       "      <td>COMMON ASSAULT</td>\n",
       "      <td>Outside</td>\n",
       "      <td>HANDS</td>\n",
       "      <td>113.0</td>\n",
       "      <td>CENTRAL</td>\n",
       "      <td>Downtown West</td>\n",
       "      <td>-76.61365</td>\n",
       "      <td>39.28756</td>\n",
       "      <td>STREET</td>\n",
       "      <td>1</td>\n",
       "    </tr>\n",
       "    <tr>\n",
       "      <th>5</th>\n",
       "      <td>2017-09-02</td>\n",
       "      <td>22:00:00</td>\n",
       "      <td>5A</td>\n",
       "      <td>CHERRYCREST RD</td>\n",
       "      <td>BURGLARY</td>\n",
       "      <td>Inside</td>\n",
       "      <td>No Weapon</td>\n",
       "      <td>922.0</td>\n",
       "      <td>SOUTHERN</td>\n",
       "      <td>Cherry Hill</td>\n",
       "      <td>-76.62131</td>\n",
       "      <td>39.24867</td>\n",
       "      <td>ROW/TOWNHO</td>\n",
       "      <td>1</td>\n",
       "    </tr>\n",
       "  </tbody>\n",
       "</table>\n",
       "</div>"
      ],
      "text/plain": [
       "   CrimeDate CrimeTime CrimeCode      CrimeLocation          Description  \\\n",
       "0 2017-09-02  23:30:00       3JK    4200 AUDREY AVE  ROBBERY - RESIDENCE   \n",
       "1 2017-09-02  23:00:00        7A  800 NEWINGTON AVE           AUTO THEFT   \n",
       "3 2017-09-02  22:50:00        4C     1800 RAMSAY ST         AGG. ASSAULT   \n",
       "4 2017-09-02  22:31:00        4E       100 LIGHT ST       COMMON ASSAULT   \n",
       "5 2017-09-02  22:00:00        5A     CHERRYCREST RD             BURGLARY   \n",
       "\n",
       "  Inside/Outside     Weapon   Post  District      Neighborhood  Longitude  \\\n",
       "0         Inside      KNIFE  913.0  SOUTHERN          Brooklyn  -76.60541   \n",
       "1        Outside  No Weapon  133.0   CENTRAL    Reservoir Hill  -76.63217   \n",
       "3         Inside      OTHER  934.0  SOUTHERN  Carrollton Ridge  -76.64526   \n",
       "4        Outside      HANDS  113.0   CENTRAL     Downtown West  -76.61365   \n",
       "5         Inside  No Weapon  922.0  SOUTHERN       Cherry Hill  -76.62131   \n",
       "\n",
       "   Latitude     Premise  Total Incidents  \n",
       "0  39.22951  ROW/TOWNHO                1  \n",
       "1  39.31360      STREET                1  \n",
       "3  39.28315  ROW/TOWNHO                1  \n",
       "4  39.28756      STREET                1  \n",
       "5  39.24867  ROW/TOWNHO                1  "
      ]
     },
     "execution_count": 32,
     "metadata": {},
     "output_type": "execute_result"
    }
   ],
   "source": [
    "data.head()"
   ]
  },
  {
   "cell_type": "code",
   "execution_count": 33,
   "metadata": {},
   "outputs": [],
   "source": [
    "data['Date']=data['CrimeDate'].dt.day\n",
    "data['Month']=data['CrimeDate'].dt.month\n",
    "data['Year']=data['CrimeDate'].dt.year\n",
    "data['Weekday'] = data['CrimeDate'].dt.weekday+1"
   ]
  },
  {
   "cell_type": "code",
   "execution_count": 34,
   "metadata": {},
   "outputs": [
    {
     "data": {
      "text/html": [
       "<div>\n",
       "<style scoped>\n",
       "    .dataframe tbody tr th:only-of-type {\n",
       "        vertical-align: middle;\n",
       "    }\n",
       "\n",
       "    .dataframe tbody tr th {\n",
       "        vertical-align: top;\n",
       "    }\n",
       "\n",
       "    .dataframe thead th {\n",
       "        text-align: right;\n",
       "    }\n",
       "</style>\n",
       "<table border=\"1\" class=\"dataframe\">\n",
       "  <thead>\n",
       "    <tr style=\"text-align: right;\">\n",
       "      <th></th>\n",
       "      <th>CrimeDate</th>\n",
       "      <th>CrimeTime</th>\n",
       "      <th>CrimeCode</th>\n",
       "      <th>CrimeLocation</th>\n",
       "      <th>Description</th>\n",
       "      <th>Inside/Outside</th>\n",
       "      <th>Weapon</th>\n",
       "      <th>Post</th>\n",
       "      <th>District</th>\n",
       "      <th>Neighborhood</th>\n",
       "      <th>Longitude</th>\n",
       "      <th>Latitude</th>\n",
       "      <th>Premise</th>\n",
       "      <th>Total Incidents</th>\n",
       "      <th>Date</th>\n",
       "      <th>Month</th>\n",
       "      <th>Year</th>\n",
       "      <th>Weekday</th>\n",
       "    </tr>\n",
       "  </thead>\n",
       "  <tbody>\n",
       "    <tr>\n",
       "      <th>0</th>\n",
       "      <td>2017-09-02</td>\n",
       "      <td>23:30:00</td>\n",
       "      <td>3JK</td>\n",
       "      <td>4200 AUDREY AVE</td>\n",
       "      <td>ROBBERY - RESIDENCE</td>\n",
       "      <td>Inside</td>\n",
       "      <td>KNIFE</td>\n",
       "      <td>913.0</td>\n",
       "      <td>SOUTHERN</td>\n",
       "      <td>Brooklyn</td>\n",
       "      <td>-76.60541</td>\n",
       "      <td>39.22951</td>\n",
       "      <td>ROW/TOWNHO</td>\n",
       "      <td>1</td>\n",
       "      <td>2</td>\n",
       "      <td>9</td>\n",
       "      <td>2017</td>\n",
       "      <td>6</td>\n",
       "    </tr>\n",
       "    <tr>\n",
       "      <th>1</th>\n",
       "      <td>2017-09-02</td>\n",
       "      <td>23:00:00</td>\n",
       "      <td>7A</td>\n",
       "      <td>800 NEWINGTON AVE</td>\n",
       "      <td>AUTO THEFT</td>\n",
       "      <td>Outside</td>\n",
       "      <td>No Weapon</td>\n",
       "      <td>133.0</td>\n",
       "      <td>CENTRAL</td>\n",
       "      <td>Reservoir Hill</td>\n",
       "      <td>-76.63217</td>\n",
       "      <td>39.31360</td>\n",
       "      <td>STREET</td>\n",
       "      <td>1</td>\n",
       "      <td>2</td>\n",
       "      <td>9</td>\n",
       "      <td>2017</td>\n",
       "      <td>6</td>\n",
       "    </tr>\n",
       "    <tr>\n",
       "      <th>3</th>\n",
       "      <td>2017-09-02</td>\n",
       "      <td>22:50:00</td>\n",
       "      <td>4C</td>\n",
       "      <td>1800 RAMSAY ST</td>\n",
       "      <td>AGG. ASSAULT</td>\n",
       "      <td>Inside</td>\n",
       "      <td>OTHER</td>\n",
       "      <td>934.0</td>\n",
       "      <td>SOUTHERN</td>\n",
       "      <td>Carrollton Ridge</td>\n",
       "      <td>-76.64526</td>\n",
       "      <td>39.28315</td>\n",
       "      <td>ROW/TOWNHO</td>\n",
       "      <td>1</td>\n",
       "      <td>2</td>\n",
       "      <td>9</td>\n",
       "      <td>2017</td>\n",
       "      <td>6</td>\n",
       "    </tr>\n",
       "    <tr>\n",
       "      <th>4</th>\n",
       "      <td>2017-09-02</td>\n",
       "      <td>22:31:00</td>\n",
       "      <td>4E</td>\n",
       "      <td>100 LIGHT ST</td>\n",
       "      <td>COMMON ASSAULT</td>\n",
       "      <td>Outside</td>\n",
       "      <td>HANDS</td>\n",
       "      <td>113.0</td>\n",
       "      <td>CENTRAL</td>\n",
       "      <td>Downtown West</td>\n",
       "      <td>-76.61365</td>\n",
       "      <td>39.28756</td>\n",
       "      <td>STREET</td>\n",
       "      <td>1</td>\n",
       "      <td>2</td>\n",
       "      <td>9</td>\n",
       "      <td>2017</td>\n",
       "      <td>6</td>\n",
       "    </tr>\n",
       "    <tr>\n",
       "      <th>5</th>\n",
       "      <td>2017-09-02</td>\n",
       "      <td>22:00:00</td>\n",
       "      <td>5A</td>\n",
       "      <td>CHERRYCREST RD</td>\n",
       "      <td>BURGLARY</td>\n",
       "      <td>Inside</td>\n",
       "      <td>No Weapon</td>\n",
       "      <td>922.0</td>\n",
       "      <td>SOUTHERN</td>\n",
       "      <td>Cherry Hill</td>\n",
       "      <td>-76.62131</td>\n",
       "      <td>39.24867</td>\n",
       "      <td>ROW/TOWNHO</td>\n",
       "      <td>1</td>\n",
       "      <td>2</td>\n",
       "      <td>9</td>\n",
       "      <td>2017</td>\n",
       "      <td>6</td>\n",
       "    </tr>\n",
       "  </tbody>\n",
       "</table>\n",
       "</div>"
      ],
      "text/plain": [
       "   CrimeDate CrimeTime CrimeCode      CrimeLocation          Description  \\\n",
       "0 2017-09-02  23:30:00       3JK    4200 AUDREY AVE  ROBBERY - RESIDENCE   \n",
       "1 2017-09-02  23:00:00        7A  800 NEWINGTON AVE           AUTO THEFT   \n",
       "3 2017-09-02  22:50:00        4C     1800 RAMSAY ST         AGG. ASSAULT   \n",
       "4 2017-09-02  22:31:00        4E       100 LIGHT ST       COMMON ASSAULT   \n",
       "5 2017-09-02  22:00:00        5A     CHERRYCREST RD             BURGLARY   \n",
       "\n",
       "  Inside/Outside     Weapon   Post  District      Neighborhood  Longitude  \\\n",
       "0         Inside      KNIFE  913.0  SOUTHERN          Brooklyn  -76.60541   \n",
       "1        Outside  No Weapon  133.0   CENTRAL    Reservoir Hill  -76.63217   \n",
       "3         Inside      OTHER  934.0  SOUTHERN  Carrollton Ridge  -76.64526   \n",
       "4        Outside      HANDS  113.0   CENTRAL     Downtown West  -76.61365   \n",
       "5         Inside  No Weapon  922.0  SOUTHERN       Cherry Hill  -76.62131   \n",
       "\n",
       "   Latitude     Premise  Total Incidents  Date  Month  Year  Weekday  \n",
       "0  39.22951  ROW/TOWNHO                1     2      9  2017        6  \n",
       "1  39.31360      STREET                1     2      9  2017        6  \n",
       "3  39.28315  ROW/TOWNHO                1     2      9  2017        6  \n",
       "4  39.28756      STREET                1     2      9  2017        6  \n",
       "5  39.24867  ROW/TOWNHO                1     2      9  2017        6  "
      ]
     },
     "execution_count": 34,
     "metadata": {},
     "output_type": "execute_result"
    }
   ],
   "source": [
    "data.head()"
   ]
  },
  {
   "cell_type": "code",
   "execution_count": 35,
   "metadata": {},
   "outputs": [],
   "source": [
    "data['CrimeTime']=pd.to_datetime(data['CrimeTime'])"
   ]
  },
  {
   "cell_type": "code",
   "execution_count": 36,
   "metadata": {},
   "outputs": [],
   "source": [
    "data['Hour']=data['CrimeTime'].dt.hour"
   ]
  },
  {
   "cell_type": "markdown",
   "metadata": {},
   "source": [
    "#### Crimes by year"
   ]
  },
  {
   "cell_type": "code",
   "execution_count": 40,
   "metadata": {},
   "outputs": [
    {
     "data": {
      "image/png": "[encoded data removed]",
      "text/plain": [
       "<Figure size 720x360 with 1 Axes>"
      ]
     },
     "metadata": {},
     "output_type": "display_data"
    }
   ],
   "source": [
    "plt.figure(figsize=(10,5))\n",
    "sns.set_style(\"whitegrid\")\n",
    "sns.countplot(x=\"Year\",data=data)\n",
    "plt.title(\"Frequency of crimes took place by years\")\n",
    "plt.xlabel(\"Year\")\n",
    "plt.ylabel(\"Crime Frequency\")\n",
    "plt.show()"
   ]
  },
  {
   "cell_type": "markdown",
   "metadata": {},
   "source": [
    "#### Crimes by month"
   ]
  },
  {
   "cell_type": "code",
   "execution_count": 41,
   "metadata": {},
   "outputs": [
    {
     "data": {
      "image/png": "[encoded data removed]",
      "text/plain": [
       "<Figure size 720x360 with 1 Axes>"
      ]
     },
     "metadata": {},
     "output_type": "display_data"
    }
   ],
   "source": [
    "plt.figure(figsize=(10,5))\n",
    "fig=sns.countplot(x=\"Month\",data=data)\n",
    "plt.title('Frequency of Crime by Month')\n",
    "plt.xlabel(\"Month\")\n",
    "plt.ylabel(\"Crime Frequency\")\n",
    "labels=['January', 'February', 'March', 'April', 'May',' June', 'July','August','September','October','November','December']\n",
    "fig.set_xticklabels(labels)\n",
    "plt.xticks(rotation=45)\n",
    "plt.show()"
   ]
  },
  {
   "cell_type": "markdown",
   "metadata": {},
   "source": [
    "Most of the crime cases took place mid years i.e., May, June, July, August"
   ]
  },
  {
   "cell_type": "markdown",
   "metadata": {},
   "source": [
    "#### Crimes by Dates"
   ]
  },
  {
   "cell_type": "code",
   "execution_count": 42,
   "metadata": {},
   "outputs": [
    {
     "data": {
      "image/png": "[encoded data removed]",
      "text/plain": [
       "<Figure size 720x360 with 1 Axes>"
      ]
     },
     "metadata": {},
     "output_type": "display_data"
    }
   ],
   "source": [
    "plt.figure(figsize=(10,5))\n",
    "sns.set_style(\"whitegrid\")\n",
    "sns.countplot(x=\"Date\",data=data)\n",
    "plt.title('Frequency of Crime by Day')\n",
    "plt.xlabel(\"Date\")\n",
    "plt.ylabel(\"Crime Frequency\")\n",
    "plt.show()"
   ]
  },
  {
   "cell_type": "markdown",
   "metadata": {},
   "source": [
    "Generally, Least cases were happening end of the month"
   ]
  },
  {
   "cell_type": "markdown",
   "metadata": {},
   "source": [
    "#### Crimes by hour"
   ]
  },
  {
   "cell_type": "code",
   "execution_count": 43,
   "metadata": {},
   "outputs": [
    {
     "data": {
      "image/png": "[encoded data removed]",
      "text/plain": [
       "<Figure size 720x360 with 1 Axes>"
      ]
     },
     "metadata": {},
     "output_type": "display_data"
    }
   ],
   "source": [
    "plt.figure(figsize=(10,5))\n",
    "sns.set_style(\"whitegrid\")\n",
    "sns.countplot(x=\"Hour\",data=data)\n",
    "plt.title('Frequency of crimes by hour')\n",
    "plt.xlabel(\"hour\")\n",
    "plt.ylabel(\"Crime Frequency\")\n",
    "plt.show()"
   ]
  },
  {
   "cell_type": "markdown",
   "metadata": {},
   "source": [
    "Most of the crime cases had took place in the evening, specifically around 6pm"
   ]
  },
  {
   "cell_type": "markdown",
   "metadata": {},
   "source": [
    "#### Crimes by weekdays"
   ]
  },
  {
   "cell_type": "code",
   "execution_count": 46,
   "metadata": {},
   "outputs": [
    {
     "data": {
      "image/png": "[encoded data removed]",
      "text/plain": [
       "<Figure size 720x360 with 1 Axes>"
      ]
     },
     "metadata": {},
     "output_type": "display_data"
    }
   ],
   "source": [
    "plt.figure(figsize=(10,5))\n",
    "sns.set_style(\"whitegrid\")\n",
    "fig=sns.countplot(x=\"Weekday\",data=data)\n",
    "plt.title('Frequency of crimes by Days')\n",
    "plt.xlabel(\"Day of week\")\n",
    "plt.ylabel(\"Crime Frequency\")\n",
    "labels=['Monday', 'Tuesday', 'Wednesday', 'Thursday', 'Friday',' Saturday', 'Sunday']\n",
    "fig.set_xticklabels(labels)\n",
    "plt.show()"
   ]
  },
  {
   "cell_type": "markdown",
   "metadata": {},
   "source": [
    "Compared to weekdays, on weekends crime count is less"
   ]
  },
  {
   "cell_type": "markdown",
   "metadata": {},
   "source": [
    "#### Crimes with weapons"
   ]
  },
  {
   "cell_type": "code",
   "execution_count": 47,
   "metadata": {},
   "outputs": [
    {
     "data": {
      "image/png": "[encoded data removed]",
      "text/plain": [
       "<Figure size 720x360 with 1 Axes>"
      ]
     },
     "metadata": {},
     "output_type": "display_data"
    }
   ],
   "source": [
    "plt.figure(figsize=(10,5))\n",
    "sns.set_style(\"whitegrid\")\n",
    "fig=sns.countplot(x=\"Weapon\",data=data)\n",
    "plt.title('Frequency of crimes')\n",
    "plt.xlabel(\"Day of week\")\n",
    "plt.ylabel(\"Crime Frequency\")\n",
    "plt.show()"
   ]
  },
  {
   "cell_type": "markdown",
   "metadata": {},
   "source": [
    "Without considering \"No Weapon\", In most crimes were hands were used"
   ]
  },
  {
   "cell_type": "markdown",
   "metadata": {},
   "source": [
    "#### Crimes by Districts"
   ]
  },
  {
   "cell_type": "code",
   "execution_count": 48,
   "metadata": {},
   "outputs": [
    {
     "data": {
      "image/png": "[encoded data removed]",
      "text/plain": [
       "<Figure size 720x360 with 1 Axes>"
      ]
     },
     "metadata": {},
     "output_type": "display_data"
    }
   ],
   "source": [
    "plt.figure(figsize=(10,5))\n",
    "sns.set_style(\"whitegrid\")\n",
    "fig=sns.countplot(x=\"District\",data=data)\n",
    "plt.title('Frequency of crimes by Districts')\n",
    "plt.xlabel(\"District\")\n",
    "plt.ylabel(\"Crime Frequency\")\n",
    "plt.xticks(rotation=90)\n",
    "plt.show()"
   ]
  },
  {
   "cell_type": "markdown",
   "metadata": {},
   "source": [
    "Many crimes were taken place in North Easern and least at Eastern"
   ]
  },
  {
   "cell_type": "markdown",
   "metadata": {},
   "source": [
    "#### Crimes by Districts with Inside or Outside"
   ]
  },
  {
   "cell_type": "code",
   "execution_count": 49,
   "metadata": {},
   "outputs": [
    {
     "data": {
      "image/png": "[encoded data removed]",
      "text/plain": [
       "<Figure size 720x360 with 1 Axes>"
      ]
     },
     "metadata": {},
     "output_type": "display_data"
    }
   ],
   "source": [
    "plt.figure(figsize=(10,5))\n",
    "sns.set_style(\"whitegrid\")\n",
    "fig=sns.countplot(x=\"District\",data=data,hue='Inside/Outside')\n",
    "plt.title('Frequency of crimes by Districts')\n",
    "plt.xlabel(\"District\")\n",
    "plt.ylabel(\"Crime Frequency\")\n",
    "plt.xticks(rotation=90)\n",
    "plt.show()"
   ]
  },
  {
   "cell_type": "markdown",
   "metadata": {},
   "source": [
    "In NorthEastern many cases happened Inside of house, where as SouthEastern has More Outside, Eastern and Western has least cases"
   ]
  },
  {
   "cell_type": "code",
   "execution_count": 50,
   "metadata": {},
   "outputs": [
    {
     "data": {
      "image/png": "[encoded data removed]",
      "text/plain": [
       "<Figure size 720x360 with 1 Axes>"
      ]
     },
     "metadata": {},
     "output_type": "display_data"
    }
   ],
   "source": [
    "plt.figure(figsize=(10,5))\n",
    "fig=sns.countplot(x ='Inside/Outside', hue='Weapon',data=data)\n",
    "plt.title('Frequency of crimes')\n",
    "plt.xlabel(\"Inside/Outside\")\n",
    "plt.ylabel(\"Crime Frequency\")\n",
    "labels=[\"Inside\",\"Outside\"]\n",
    "fig.set_xticklabels(labels)\n",
    "plt.show()"
   ]
  },
  {
   "cell_type": "markdown",
   "metadata": {},
   "source": [
    "Generally, Both Inside and Outside crimes taken place by Hands"
   ]
  },
  {
   "cell_type": "markdown",
   "metadata": {},
   "source": [
    "#### Major crime types in Baltimore"
   ]
  },
  {
   "cell_type": "code",
   "execution_count": 51,
   "metadata": {},
   "outputs": [
    {
     "data": {
      "text/plain": [
       "<AxesSubplot:>"
      ]
     },
     "execution_count": 51,
     "metadata": {},
     "output_type": "execute_result"
    },
    {
     "data": {
      "image/png": "[encoded data removed]",
      "text/plain": [
       "<Figure size 792x432 with 1 Axes>"
      ]
     },
     "metadata": {},
     "output_type": "display_data"
    }
   ],
   "source": [
    "data['Description'].value_counts().plot.bar(figsize=(11, 6))"
   ]
  },
  {
   "cell_type": "markdown",
   "metadata": {},
   "source": [
    "Larceny is the most frequent kind of crime"
   ]
  },
  {
   "cell_type": "code",
   "execution_count": 52,
   "metadata": {},
   "outputs": [
    {
     "data": {
      "text/html": [
       "<div>\n",
       "<style scoped>\n",
       "    .dataframe tbody tr th:only-of-type {\n",
       "        vertical-align: middle;\n",
       "    }\n",
       "\n",
       "    .dataframe tbody tr th {\n",
       "        vertical-align: top;\n",
       "    }\n",
       "\n",
       "    .dataframe thead th {\n",
       "        text-align: right;\n",
       "    }\n",
       "</style>\n",
       "<table border=\"1\" class=\"dataframe\">\n",
       "  <thead>\n",
       "    <tr style=\"text-align: right;\">\n",
       "      <th></th>\n",
       "      <th>Post</th>\n",
       "      <th>Longitude</th>\n",
       "      <th>Latitude</th>\n",
       "      <th>Total Incidents</th>\n",
       "      <th>Date</th>\n",
       "      <th>Month</th>\n",
       "      <th>Year</th>\n",
       "      <th>Weekday</th>\n",
       "      <th>Hour</th>\n",
       "    </tr>\n",
       "  </thead>\n",
       "  <tbody>\n",
       "    <tr>\n",
       "      <th>Post</th>\n",
       "      <td>1.000000</td>\n",
       "      <td>-0.525339</td>\n",
       "      <td>-0.199788</td>\n",
       "      <td>NaN</td>\n",
       "      <td>-0.004455</td>\n",
       "      <td>-0.003058</td>\n",
       "      <td>0.016545</td>\n",
       "      <td>0.000275</td>\n",
       "      <td>0.002585</td>\n",
       "    </tr>\n",
       "    <tr>\n",
       "      <th>Longitude</th>\n",
       "      <td>-0.525339</td>\n",
       "      <td>1.000000</td>\n",
       "      <td>-0.022024</td>\n",
       "      <td>NaN</td>\n",
       "      <td>0.001955</td>\n",
       "      <td>0.001579</td>\n",
       "      <td>-0.003207</td>\n",
       "      <td>0.007413</td>\n",
       "      <td>-0.013059</td>\n",
       "    </tr>\n",
       "    <tr>\n",
       "      <th>Latitude</th>\n",
       "      <td>-0.199788</td>\n",
       "      <td>-0.022024</td>\n",
       "      <td>1.000000</td>\n",
       "      <td>NaN</td>\n",
       "      <td>-0.000176</td>\n",
       "      <td>0.005781</td>\n",
       "      <td>-0.011653</td>\n",
       "      <td>-0.023130</td>\n",
       "      <td>0.013707</td>\n",
       "    </tr>\n",
       "    <tr>\n",
       "      <th>Total Incidents</th>\n",
       "      <td>NaN</td>\n",
       "      <td>NaN</td>\n",
       "      <td>NaN</td>\n",
       "      <td>NaN</td>\n",
       "      <td>NaN</td>\n",
       "      <td>NaN</td>\n",
       "      <td>NaN</td>\n",
       "      <td>NaN</td>\n",
       "      <td>NaN</td>\n",
       "    </tr>\n",
       "    <tr>\n",
       "      <th>Date</th>\n",
       "      <td>-0.004455</td>\n",
       "      <td>0.001955</td>\n",
       "      <td>-0.000176</td>\n",
       "      <td>NaN</td>\n",
       "      <td>1.000000</td>\n",
       "      <td>-0.006502</td>\n",
       "      <td>0.003821</td>\n",
       "      <td>-0.004259</td>\n",
       "      <td>0.008067</td>\n",
       "    </tr>\n",
       "    <tr>\n",
       "      <th>Month</th>\n",
       "      <td>-0.003058</td>\n",
       "      <td>0.001579</td>\n",
       "      <td>0.005781</td>\n",
       "      <td>NaN</td>\n",
       "      <td>-0.006502</td>\n",
       "      <td>1.000000</td>\n",
       "      <td>-0.075026</td>\n",
       "      <td>0.003496</td>\n",
       "      <td>0.002840</td>\n",
       "    </tr>\n",
       "    <tr>\n",
       "      <th>Year</th>\n",
       "      <td>0.016545</td>\n",
       "      <td>-0.003207</td>\n",
       "      <td>-0.011653</td>\n",
       "      <td>NaN</td>\n",
       "      <td>0.003821</td>\n",
       "      <td>-0.075026</td>\n",
       "      <td>1.000000</td>\n",
       "      <td>-0.007126</td>\n",
       "      <td>-0.000615</td>\n",
       "    </tr>\n",
       "    <tr>\n",
       "      <th>Weekday</th>\n",
       "      <td>0.000275</td>\n",
       "      <td>0.007413</td>\n",
       "      <td>-0.023130</td>\n",
       "      <td>NaN</td>\n",
       "      <td>-0.004259</td>\n",
       "      <td>0.003496</td>\n",
       "      <td>-0.007126</td>\n",
       "      <td>1.000000</td>\n",
       "      <td>-0.028861</td>\n",
       "    </tr>\n",
       "    <tr>\n",
       "      <th>Hour</th>\n",
       "      <td>0.002585</td>\n",
       "      <td>-0.013059</td>\n",
       "      <td>0.013707</td>\n",
       "      <td>NaN</td>\n",
       "      <td>0.008067</td>\n",
       "      <td>0.002840</td>\n",
       "      <td>-0.000615</td>\n",
       "      <td>-0.028861</td>\n",
       "      <td>1.000000</td>\n",
       "    </tr>\n",
       "  </tbody>\n",
       "</table>\n",
       "</div>"
      ],
      "text/plain": [
       "                     Post  Longitude  Latitude  Total Incidents      Date  \\\n",
       "Post             1.000000  -0.525339 -0.199788              NaN -0.004455   \n",
       "Longitude       -0.525339   1.000000 -0.022024              NaN  0.001955   \n",
       "Latitude        -0.199788  -0.022024  1.000000              NaN -0.000176   \n",
       "Total Incidents       NaN        NaN       NaN              NaN       NaN   \n",
       "Date            -0.004455   0.001955 -0.000176              NaN  1.000000   \n",
       "Month           -0.003058   0.001579  0.005781              NaN -0.006502   \n",
       "Year             0.016545  -0.003207 -0.011653              NaN  0.003821   \n",
       "Weekday          0.000275   0.007413 -0.023130              NaN -0.004259   \n",
       "Hour             0.002585  -0.013059  0.013707              NaN  0.008067   \n",
       "\n",
       "                    Month      Year   Weekday      Hour  \n",
       "Post            -0.003058  0.016545  0.000275  0.002585  \n",
       "Longitude        0.001579 -0.003207  0.007413 -0.013059  \n",
       "Latitude         0.005781 -0.011653 -0.023130  0.013707  \n",
       "Total Incidents       NaN       NaN       NaN       NaN  \n",
       "Date            -0.006502  0.003821 -0.004259  0.008067  \n",
       "Month            1.000000 -0.075026  0.003496  0.002840  \n",
       "Year            -0.075026  1.000000 -0.007126 -0.000615  \n",
       "Weekday          0.003496 -0.007126  1.000000 -0.028861  \n",
       "Hour             0.002840 -0.000615 -0.028861  1.000000  "
      ]
     },
     "execution_count": 52,
     "metadata": {},
     "output_type": "execute_result"
    }
   ],
   "source": [
    "data.corr()"
   ]
  },
  {
   "cell_type": "code",
   "execution_count": 53,
   "metadata": {},
   "outputs": [
    {
     "data": {
      "text/plain": [
       "<AxesSubplot:>"
      ]
     },
     "execution_count": 53,
     "metadata": {},
     "output_type": "execute_result"
    },
    {
     "data": {
      "image/png": "[encoded data removed]",
      "text/plain": [
       "<Figure size 864x720 with 2 Axes>"
      ]
     },
     "metadata": {},
     "output_type": "display_data"
    }
   ],
   "source": [
    "plt.figure(figsize=(12,10))\n",
    "sns.heatmap(data.corr(),annot=True)"
   ]
  },
  {
   "cell_type": "markdown",
   "metadata": {},
   "source": [
    "## Conclusion"
   ]
  },
  {
   "cell_type": "markdown",
   "metadata": {},
   "source": [
    "1. Most of the crimes took place evening.   \n",
    "2. There were less crimes commited at night hours  \n",
    "3. Most commited crimes are on Fridays  \n",
    "4. Most of the crime cases took place mid years i.e., May, June, July, August \n",
    "5. Number of incidents are almost similar in all years  \n",
    "6. Most of crimes are by using hands\n",
    "7. Larceny is the most frequent kind of crime"
   ]
  }
 ],
 "metadata": {
  "kernelspec": {
   "display_name": "Python 3 (ipykernel)",
   "language": "python",
   "name": "python3"
  },
  "language_info": {
   "codemirror_mode": {
    "name": "ipython",
    "version": 3
   },
   "file_extension": ".py",
   "mimetype": "text/x-python",
   "name": "python",
   "nbconvert_exporter": "python",
   "pygments_lexer": "ipython3",
   "version": "3.9.12"
  }
 },
 "nbformat": 4,
 "nbformat_minor": 4
}
