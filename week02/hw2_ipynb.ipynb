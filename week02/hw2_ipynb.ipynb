{
 "cells": [
  {
   "cell_type": "markdown",
   "id": "2df3d638",
   "metadata": {},
   "source": [
    "Homework 2\n",
    "\n",
    "Please complete the functions below. These functions are for to simulate a fair and a biased die. \n",
    "\n",
    "The biased die has probabilities {0.20, 0.10, 0.15, 0.15, 0.15, 0.25}.\n",
    "\n",
    "Create 2 visualizations that shows outcomes of multiple rolls of a fair die and biased die. \n",
    "* Visualization for fair die\n",
    "* Visualization for biased die\n",
    "\n",
    "Repeat the process programatically and take the mean to create a new list. This list will be used to compare means of biased & unbiased dice. \n",
    "* Create a historgram showing means of biased & unbiased die\n",
    "\n",
    "* Use subcharts\n",
    "* All visualizations must have appropriate titles.\n",
    "* There are 3 visualization and expected format is \n",
    "```\n",
    " [V1] [V2]\n",
    " [   V3  ]\n",
    " ```"
   ]
  },
  {
   "cell_type": "code",
   "execution_count": 29,
   "id": "44c82d8c",
   "metadata": {},
   "outputs": [],
   "source": [
    "import random\n",
    "import matplotlib.pyplot as plt\n",
    "\n",
    "trial_count = 500\n",
    "\n",
    "\n",
    "def fair_die_simulation(trials,trial_count):\n",
    "    total=0\n",
    "    for i in range(trial_count):\n",
    "        face=random.randint(1,6)\n",
    "        trials[face-1]= trials[face-1]+1\n",
    "        total=total+face\n",
    "    simulation=total*1/trial_count\n",
    "    return simulation\n",
    "\n",
    "trials=[0,0,0,0,0,0]\n",
    "average=fair_die_simulation(trials,trial_count)\n"
   ]
  },
  {
   "cell_type": "code",
   "execution_count": 9,
   "id": "8908d1bf",
   "metadata": {},
   "outputs": [
    {
     "data": {
      "image/png": "[encoded data removed]",
      "text/plain": [
       "<Figure size 432x288 with 1 Axes>"
      ]
     },
     "metadata": {
      "needs_background": "light"
     },
     "output_type": "display_data"
    }
   ],
   "source": [
    "fig = plt.figure()\n",
    "ax=plt.subplot(2,2,1)\n",
    "ax.set_ylabel('number of occurences')\n",
    "ax.set_title('V1')\n",
    "ax.set_xlabel('result')\n",
    "num = [1,2,3,4,5,6]\n",
    "faces = [trials[0],trials[1],trials[2],trials[3],trials[4],trials[5]]\n",
    "plt.bar(num,faces)\n",
    "plt.show()"
   ]
  },
  {
   "cell_type": "code",
   "execution_count": 15,
   "id": "67e5e45b",
   "metadata": {},
   "outputs": [],
   "source": [
    "import random\n",
    "import matplotlib.pyplot as plt\n",
    "\n",
    "\n",
    "trial_count = 500\n",
    "biased_val=0\n",
    "biased_sim = []\n",
    "biased_mean=[0,0,0,0,0,0]\n",
    "die_face = [1,2,3,4,5,6]\n",
    "def biased_die_simuations(trials, weights=[0.25, 0.15, 0.15, 0.15, 0.15, 0.15]):\n",
    "    for i in range(trial_count):\n",
    "        biased_val=(random.choices(die_face,weights))\n",
    "        biased_sim.append(biased_val)\n",
    "        l=biased_val[0]\n",
    "        biased_mean[l-1]=biased_mean[l-1]+1\n",
    "    return biased_simulations\n",
    "biased = biased_die_simuations(trial_count)\n",
    "\n"
   ]
  },
  {
   "cell_type": "code",
   "execution_count": 16,
   "id": "ed0e1029",
   "metadata": {},
   "outputs": [
    {
     "data": {
      "image/png": "[encoded data removed]",
      "text/plain": [
       "<Figure size 432x288 with 1 Axes>"
      ]
     },
     "metadata": {
      "needs_background": "light"
     },
     "output_type": "display_data"
    }
   ],
   "source": [
    "#print(biased)\n",
    "ax=plt.subplot(1,2,2)\n",
    "ax.set_ylabel(\"number of times\")\n",
    "ax.set_title('V2')\n",
    "ax.set_xlabel('Die face')\n",
    "result=ax.bar(options,biased_mean)"
   ]
  },
  {
   "cell_type": "code",
   "execution_count": null,
   "id": "e7db55b2",
   "metadata": {},
   "outputs": [],
   "source": []
  },
  {
   "cell_type": "code",
   "execution_count": 26,
   "id": "6c566e6a",
   "metadata": {},
   "outputs": [
    {
     "data": {
      "image/png": "[encoded data removed]",
      "text/plain": [
       "<Figure size 432x288 with 3 Axes>"
      ]
     },
     "metadata": {
      "needs_background": "light"
     },
     "output_type": "display_data"
    }
   ],
   "source": [
    "plt.figure()\n",
    "plt.subplot(2,2,1)\n",
    "plt.hist(biased_mean)\n",
    "\n",
    "plt.subplot(2,2,2)\n",
    "plt.hist(faces)\n",
    "\n",
    "plt.subplot(2,2,(3,4))\n",
    "plt.hist(biased_mean, color = \"red\")\n",
    "plt.hist(faces, color = \"blue\")\n",
    "plt.show()"
   ]
  },
  {
   "cell_type": "code",
   "execution_count": null,
   "id": "5d61aa82",
   "metadata": {},
   "outputs": [],
   "source": []
  }
 ],
 "metadata": {
  "kernelspec": {
   "display_name": "Python 3 (ipykernel)",
   "language": "python",
   "name": "python3"
  },
  "language_info": {
   "codemirror_mode": {
    "name": "ipython",
    "version": 3
   },
   "file_extension": ".py",
   "mimetype": "text/x-python",
   "name": "python",
   "nbconvert_exporter": "python",
   "pygments_lexer": "ipython3",
   "version": "3.9.12"
  }
 },
 "nbformat": 4,
 "nbformat_minor": 5
}
