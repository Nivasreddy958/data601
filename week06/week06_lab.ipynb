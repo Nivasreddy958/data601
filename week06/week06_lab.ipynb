{
 "cells": [
  {
   "cell_type": "markdown",
   "id": "142f4de1",
   "metadata": {
    "id": "v5Zi0hVzU34f"
   },
   "source": [
    "# Week6 Lab\n",
    "\n",
    "## Download & Extract Data\n",
    "\n",
    "Programmatically download the zip file & extract"
   ]
  },
  {
   "cell_type": "code",
   "execution_count": null,
   "id": "5b304a91",
   "metadata": {},
   "outputs": [],
   "source": []
  },
  {
   "cell_type": "code",
   "execution_count": 1,
   "id": "366aa3f0",
   "metadata": {
    "colab": {
     "base_uri": "https://localhost:8080/"
    },
    "id": "sbIweVvCfHMU",
    "outputId": "5c1794ed-460b-46fe-e09b-675284a038a7",
    "scrolled": true
   },
   "outputs": [],
   "source": [
    "file_url = 'https://github.com/msaricaumbc/DS_data/blob/master/lab_data.zip?raw=true'\n",
    "\n"
   ]
  },
  {
   "cell_type": "code",
   "execution_count": 3,
   "id": "886bd5fa",
   "metadata": {},
   "outputs": [
    {
     "name": "stdout",
     "output_type": "stream",
     "text": [
      "File Name                                             Modified             Size\n",
      "world_cup.csv                                  2021-10-05 22:45:02       164603\n",
      "__MACOSX/._world_cup.csv                       2021-10-05 22:45:02          176\n",
      "Extracting all the files now...\n",
      "Done!\n"
     ]
    }
   ],
   "source": [
    "import csv\n",
    "from urllib import request\n",
    "from zipfile import ZipFile\n",
    "\n",
    "file_url = 'https://github.com/msaricaumbc/DS_data/blob/master/world_cup.csv.zip?raw=true'\n",
    "file_name = 'week6labdata.zip'\n",
    "\n",
    "def download_file(file_name, url):\n",
    "    res = request.urlopen(url)\n",
    "    with open(file_name,'wb') as file:\n",
    "        file.write(res.read())\n",
    "def unzip(file_name, path='./'):\n",
    "    # opening the zip file in READ mode \n",
    "    with ZipFile(file_name, 'r') as zip: \n",
    "        # printing all the contents of the zip file \n",
    "        zip.printdir() \n",
    "\n",
    "        # extracting all the files \n",
    "        print('Extracting all the files now...') \n",
    "        zip.extractall(path = path) \n",
    "        print('Done!') \n",
    "download_file(file_name,file_url)\n",
    "unzip('week6labdata.zip')"
   ]
  },
  {
   "cell_type": "markdown",
   "id": "3b50c890",
   "metadata": {
    "id": "_kjkZyypfdLD"
   },
   "source": [
    "## Reading data from a csv file"
   ]
  },
  {
   "cell_type": "markdown",
   "id": "eb1e93f2",
   "metadata": {
    "id": "RgyCSGYBgCK0"
   },
   "source": [
    "For the file `PoliceShootingsUS.csv`, please answer the following questions:\n",
    "\n",
    "* How many offenders are older than 55? "
   ]
  },
  {
   "cell_type": "code",
   "execution_count": 23,
   "id": "367088e5",
   "metadata": {
    "id": "v7tImBaOgNwo",
    "scrolled": false
   },
   "outputs": [
    {
     "name": "stdout",
     "output_type": "stream",
     "text": [
      "Requirement already satisfied: chardet in /Users/nivasreddy/opt/anaconda3/lib/python3.9/site-packages (4.0.0)\r\n"
     ]
    },
    {
     "data": {
      "text/plain": [
       "235"
      ]
     },
     "execution_count": 23,
     "metadata": {},
     "output_type": "execute_result"
    }
   ],
   "source": [
    "!pip install chardet\n",
    "import chardet\n",
    "import pandas as pd\n",
    "chardet.detect(open('PoliceShootingsUS.csv', 'rb').read())\n",
    "policeshooting=pd.read_csv('PoliceShootingsUS.csv',encoding='Windows-1252')\n",
    "ageolder=polshooting['age']>55\n",
    "ageolder.sum()"
   ]
  },
  {
   "cell_type": "code",
   "execution_count": null,
   "id": "462b0ee9",
   "metadata": {},
   "outputs": [],
   "source": []
  },
  {
   "cell_type": "markdown",
   "id": "02305a57",
   "metadata": {},
   "source": [
    "* What's the age distribution?"
   ]
  },
  {
   "cell_type": "code",
   "execution_count": 24,
   "id": "0b4f74c9",
   "metadata": {
    "id": "v7tImBaOgNwo"
   },
   "outputs": [
    {
     "data": {
      "text/plain": [
       "array([[<AxesSubplot:title={'center':'age'}>]], dtype=object)"
      ]
     },
     "execution_count": 24,
     "metadata": {},
     "output_type": "execute_result"
    },
    {
     "data": {
      "image/png": "[encoded data removed]",
      "text/plain": [
       "<Figure size 432x288 with 1 Axes>"
      ]
     },
     "metadata": {
      "needs_background": "light"
     },
     "output_type": "display_data"
    }
   ],
   "source": [
    "import matplotlib.pyplot as plt\n",
    "\n",
    "policeshooting.hist('age')"
   ]
  },
  {
   "cell_type": "markdown",
   "id": "fea7d570",
   "metadata": {},
   "source": [
    "## Dirty data\n",
    "\n",
    "Read `volunteers.txt` file and perform the following action:\n",
    "\n",
    "* Create a dataframe with columns: Name, Lastname, State"
   ]
  },
  {
   "cell_type": "code",
   "execution_count": 27,
   "id": "8c0f7665",
   "metadata": {},
   "outputs": [],
   "source": [
    "def parse(text):\n",
    "    parts=text.split('[')\n",
    "    names=parts[1].split(']')[0].split(',')\n",
    "    lastname=names[0].strip()\n",
    "    name=names[1]\n",
    "    state=parts[1].split('(')[1].split(')')[0]\n",
    "    return name, lastname, state\n"
   ]
  },
  {
   "cell_type": "code",
   "execution_count": 28,
   "id": "cf0259df",
   "metadata": {},
   "outputs": [
    {
     "data": {
      "text/html": [
       "<div>\n",
       "<style scoped>\n",
       "    .dataframe tbody tr th:only-of-type {\n",
       "        vertical-align: middle;\n",
       "    }\n",
       "\n",
       "    .dataframe tbody tr th {\n",
       "        vertical-align: top;\n",
       "    }\n",
       "\n",
       "    .dataframe thead th {\n",
       "        text-align: right;\n",
       "    }\n",
       "</style>\n",
       "<table border=\"1\" class=\"dataframe\">\n",
       "  <thead>\n",
       "    <tr style=\"text-align: right;\">\n",
       "      <th></th>\n",
       "      <th>name</th>\n",
       "      <th>lastname</th>\n",
       "      <th>state</th>\n",
       "    </tr>\n",
       "  </thead>\n",
       "  <tbody>\n",
       "    <tr>\n",
       "      <th>0</th>\n",
       "      <td>Christine</td>\n",
       "      <td>Harding</td>\n",
       "      <td>Virginia</td>\n",
       "    </tr>\n",
       "    <tr>\n",
       "      <th>1</th>\n",
       "      <td>Kimberly</td>\n",
       "      <td>Davis</td>\n",
       "      <td>New York</td>\n",
       "    </tr>\n",
       "    <tr>\n",
       "      <th>2</th>\n",
       "      <td>Rachel</td>\n",
       "      <td>Ingram</td>\n",
       "      <td>Louisiana</td>\n",
       "    </tr>\n",
       "    <tr>\n",
       "      <th>3</th>\n",
       "      <td>Richard</td>\n",
       "      <td>Walker</td>\n",
       "      <td>Oregon</td>\n",
       "    </tr>\n",
       "    <tr>\n",
       "      <th>4</th>\n",
       "      <td>Francisco</td>\n",
       "      <td>Barnes</td>\n",
       "      <td>Virginia</td>\n",
       "    </tr>\n",
       "    <tr>\n",
       "      <th>...</th>\n",
       "      <td>...</td>\n",
       "      <td>...</td>\n",
       "      <td>...</td>\n",
       "    </tr>\n",
       "    <tr>\n",
       "      <th>95</th>\n",
       "      <td>Kevin</td>\n",
       "      <td>Smith</td>\n",
       "      <td>North Dakota</td>\n",
       "    </tr>\n",
       "    <tr>\n",
       "      <th>96</th>\n",
       "      <td>Mark</td>\n",
       "      <td>Moore</td>\n",
       "      <td>Alaska</td>\n",
       "    </tr>\n",
       "    <tr>\n",
       "      <th>97</th>\n",
       "      <td>Jennifer</td>\n",
       "      <td>Landry</td>\n",
       "      <td>Wyoming</td>\n",
       "    </tr>\n",
       "    <tr>\n",
       "      <th>98</th>\n",
       "      <td>Lori</td>\n",
       "      <td>Phillips</td>\n",
       "      <td>Arkansas</td>\n",
       "    </tr>\n",
       "    <tr>\n",
       "      <th>99</th>\n",
       "      <td>Tiffany</td>\n",
       "      <td>Davis</td>\n",
       "      <td>Mississippi</td>\n",
       "    </tr>\n",
       "  </tbody>\n",
       "</table>\n",
       "<p>100 rows × 3 columns</p>\n",
       "</div>"
      ],
      "text/plain": [
       "          name  lastname         state\n",
       "0    Christine   Harding      Virginia\n",
       "1     Kimberly     Davis      New York\n",
       "2       Rachel    Ingram     Louisiana\n",
       "3      Richard    Walker        Oregon\n",
       "4    Francisco    Barnes      Virginia\n",
       "..         ...       ...           ...\n",
       "95       Kevin     Smith  North Dakota\n",
       "96        Mark     Moore        Alaska\n",
       "97    Jennifer    Landry       Wyoming\n",
       "98        Lori  Phillips      Arkansas\n",
       "99     Tiffany     Davis   Mississippi\n",
       "\n",
       "[100 rows x 3 columns]"
      ]
     },
     "execution_count": 28,
     "metadata": {},
     "output_type": "execute_result"
    }
   ],
   "source": [
    "with open('volunteers.txt','r') as f:\n",
    "    vol=[]\n",
    "    while(True):\n",
    "        line = f.readline()\n",
    "        \n",
    "        if not line:\n",
    "            break\n",
    "        \n",
    "        name, lastname, state = parse(line)\n",
    "        \n",
    "        vol.append([name, lastname, state])\n",
    "        \n",
    "import pandas as pd\n",
    "df= pd.DataFrame(vol)\n",
    "df.columns=['name','lastname','state']\n",
    "df"
   ]
  },
  {
   "cell_type": "code",
   "execution_count": null,
   "id": "68dc5c5c",
   "metadata": {},
   "outputs": [],
   "source": []
  }
 ],
 "metadata": {
  "kernelspec": {
   "display_name": "Python 3 (ipykernel)",
   "language": "python",
   "name": "python3"
  },
  "language_info": {
   "codemirror_mode": {
    "name": "ipython",
    "version": 3
   },
   "file_extension": ".py",
   "mimetype": "text/x-python",
   "name": "python",
   "nbconvert_exporter": "python",
   "pygments_lexer": "ipython3",
   "version": "3.9.12"
  },
  "toc": {
   "base_numbering": 1,
   "nav_menu": {},
   "number_sections": false,
   "sideBar": false,
   "skip_h1_title": false,
   "title_cell": "Table of Contents",
   "title_sidebar": "Contents",
   "toc_cell": false,
   "toc_position": {
    "height": "47.7143px",
    "left": "565px",
    "top": "203px",
    "width": "159.362px"
   },
   "toc_section_display": false,
   "toc_window_display": false
  }
 },
 "nbformat": 4,
 "nbformat_minor": 5
}
