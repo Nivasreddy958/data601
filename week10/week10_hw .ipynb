{
 "cells": [
  {
   "cell_type": "markdown",
   "metadata": {},
   "source": [
    "# Week 10 Homework\n",
    "\n",
    "Extend the following class and name this class `ModuleLister`\n",
    "\n",
    "This will find all unique modules in your homework and labs."
   ]
  },
  {
   "cell_type": "code",
   "execution_count": 1,
   "metadata": {},
   "outputs": [],
   "source": [
    "### DON'T CHANGE THIS CELL\n",
    "import os\n",
    "\n",
    "class FileProcessor:\n",
    "    \n",
    "    def __init__(self, path, file_types=['.ipynb']):\n",
    "        self.files = self.find_all_files(path, file_types)\n",
    "        print(f'{len(self.files)} file(s) found...')\n",
    "\n",
    "    \n",
    "    def find_all_files(self, path, file_types):\n",
    "        paths = []\n",
    "        for root, dirs, files in os.walk(path):\n",
    "            for file in files:\n",
    "                if any([file.endswith(ft) for ft in file_types]):\n",
    "                    path = os.path.join(root, file)\n",
    "                    # print(path)\n",
    "                    paths.append(path)\n",
    "        return paths\n",
    "    \n",
    "    def read_file(self, file_path, encoding='utf8'):\n",
    "        with open(file_path,encoding=encoding) as f:\n",
    "            return f.read()\n",
    "    \n",
    "    def start(self):\n",
    "        \"\"\"\n",
    "        Entry point for the class\n",
    "        \"\"\"\n",
    "        for file in self.files:\n",
    "            self.process_file(file)\n",
    "        \n",
    "    def process_file(self, file_path):\n",
    "        \"\"\"\n",
    "        abstract method\n",
    "        \"\"\"\n",
    "        raise NotImplemented('process_file method not implemented')"
   ]
  },
  {
   "cell_type": "code",
   "execution_count": 2,
   "metadata": {},
   "outputs": [],
   "source": [
    "### your code starts here\n",
    "import re\n",
    "lst = []\n",
    "#pattern = re.compile(\"(?:^|\\n)import ([^\\s]+)\")\n",
    "class ModuleLister(FileProcessor):\n",
    "   # pattern = re.compile(r'import \\w+')\n",
    "    def process_file(self,file_path):\n",
    "        pattern = re.compile(r'import \\w+')\n",
    "        line =  self.read_file(file_path)\n",
    "        z = re.findall(pattern,line)\n",
    "        c=[i.replace('import ', '') for i in z]\n",
    "        print(c)\n",
    "        \n",
    "   "
   ]
  },
  {
   "cell_type": "code",
   "execution_count": 3,
   "metadata": {},
   "outputs": [
    {
     "name": "stdout",
     "output_type": "stream",
     "text": [
      "52 file(s) found...\n"
     ]
    }
   ],
   "source": [
    "processor = ModuleLister(path='../') # change the path according to your path"
   ]
  },
  {
   "cell_type": "code",
   "execution_count": 4,
   "metadata": {},
   "outputs": [
    {
     "name": "stdout",
     "output_type": "stream",
     "text": [
      "['csv', 'request', 'ZipFile', 'chardet', 'pandas', 'matplotlib', 'pandas']\n",
      "['random', 'matplotlib', 'numpy']\n",
      "['pandas', 'matplotlib']\n",
      "['random', 'matplotlib']\n",
      "['pandas', 'matplotlib']\n",
      "['pandas', 'matplotlib']\n",
      "['random', 'matplotlib', 'numpy']\n",
      "['pandas']\n",
      "['random', 'matplotlib']\n",
      "['pandas']\n",
      "['pandas', 'matplotlib']\n",
      "['pandas', 'matplotlib', 'matplotlib']\n",
      "['pandas', 'seaborn', 'pyplot']\n",
      "['pandas', 'numpy', 'matplotlib']\n",
      "['pandas', 'matplotlib', 'matplotlib']\n",
      "['pandas', 'matplotlib']\n",
      "['csv', 'matplotlib', 'Counter']\n",
      "[]\n",
      "['pandas', 're', 'datetime', 'datetime']\n",
      "['csv', 'request', 'ZipFile', 'chardet', 'pandas', 'matplotlib', 'pandas']\n",
      "['pandas']\n",
      "['os', 're']\n",
      "['os', 're']\n",
      "['pandas']\n",
      "['os']\n",
      "['pandas', 'matplotlib']\n",
      "[]\n",
      "['pandas', 'io']\n",
      "['random', 'matplotlib', 'random', 'matplotlib']\n",
      "['request', 'ZipFile', 'pyplot', 'Counter']\n",
      "['pandas']\n",
      "['seaborn', 'pandas']\n",
      "['re', 'pandas', 'numpy', 'datetime']\n",
      "['pandas', 're']\n",
      "['os']\n",
      "['pandas', 'matplotlib', 'matplotlib']\n",
      "['pandas', 'numpy', 'matplotlib', 'seaborn']\n",
      "['pandas', 're', 'datetime', 'datetime']\n",
      "['csv', 'matplotlib', 'Counter']\n",
      "['pandas', 'numpy', 'matplotlib', 'seaborn']\n",
      "['re', 'pandas', 'numpy', 'datetime']\n",
      "['pandas']\n",
      "['os']\n",
      "['os', 're', 'csv', 'request', 'ZipFile', 'chardet', 'pandas', 'matplotlib', 'pandas', 'random', 'matplotlib', 'numpy', 'pandas', 'matplotlib', 'random', 'matplotlib', 'pandas', 'matplotlib', 'pandas', 'matplotlib', 'random', 'matplotlib', 'numpy', 'pandas', 'random', 'matplotlib', 'pandas', 'pandas', 'matplotlib', 'pandas', 'matplotlib', 'matplotlib', 'pandas', 'seaborn', 'pyplot', 'pandas', 'numpy', 'matplotlib', 'pandas', 'matplotlib', 'matplotlib', 'pandas', 'matplotlib', 'csv', 'matplotlib', 'Counter', 'pandas', 're', 'datetime', 'datetime', 'csv', 'request', 'ZipFile', 'chardet', 'pandas', 'matplotlib', 'pandas', 'pandas', 'os', 're', 'pandas', 'os', 're', 'csv', 'request', 'ZipFile', 'chardet', 'pandas', 'matplotlib', 'pandas', 'random', 'matplotlib', 'numpy', 'pandas', 'matplotlib', 'random', 'matplotlib', 'pandas', 'matplotlib', 'pandas', 'matplotlib', 'random', 'matplotlib', 'numpy', 'pandas', 'random', 'matplotlib', 'pandas', 'pandas', 'matplotlib', 'pandas', 'matplotlib', 'matplotlib', 'pandas', 'seaborn', 'pyplot', 'pandas', 'numpy', 'matplotlib', 'pandas', 'matplotlib', 'matplotlib', 'pandas', 'matplotlib', 'csv', 'matplotlib', 'Counter', 'pandas', 're', 'datetime', 'datetime', 'csv', 'request', 'ZipFile', 'chardet', 'pandas', 'matplotlib', 'pandas', 'pandas', 'os', 're', 'pandas', 'os', 're', 'csv', 'request', 'ZipFile', 'chardet', 'pandas', 'matplotlib', 'pandas', 'random', 'matplotlib', 'numpy', 'pandas', 'matplotlib', 'random', 'matplotlib', 'pandas', 'matplotlib', 'pandas', 'matplotlib', 'random', 'matplotlib', 'numpy', 'pandas', 'random', 'matplotlib', 'pandas', 'pandas', 'matplotlib', 'pandas', 'matplotlib', 'matplotlib', 'pandas', 'seaborn', 'pyplot', 'pandas', 'numpy', 'matplotlib', 'pandas', 'matplotlib', 'matplotlib', 'pandas', 'matplotlib', 'csv', 'matplotlib', 'Counter', 'pandas', 're', 'datetime', 'datetime', 'csv', 'request', 'ZipFile', 'chardet', 'pandas', 'matplotlib', 'pandas', 'pandas', 'os', 're', 'pandas', 'os', 're', 'os', 'pandas', 'matplotlib', 'pandas', 'io', 'random', 'matplotlib', 'random', 'matplotlib', 'request', 'ZipFile', 'pyplot', 'Counter', 'pandas', 'seaborn', 'pandas', 're', 'pandas', 'numpy', 'datetime', 'pandas', 're', 'os', 'pandas', 'matplotlib', 'matplotlib', 'pandas', 'numpy', 'matplotlib', 'seaborn', 'pandas', 're', 'datetime', 'datetime', 'csv', 'matplotlib', 'Counter', 'pandas', 'numpy', 'matplotlib', 'seaborn', 're', 'pandas', 'numpy', 'datetime', 'pandas', 'os', 'os', 'pandas', 'numpy', 'matplotlib', 'seaborn', 'os', 're', 'numpy', 'pandas', 'missingno', 'seaborn', 'matplotlib', 'pandas', 'numpy', 're', 'request', 'ZipFile', 'pyplot', 'Counter', 'browserhistory', 'pandas', 'urlparse', 'pandas', 'numpy', 'matplotlib', 'seaborn', 'missingno', 'os', 'pandas', 'matplotlib', 'pandas', 'io', 'random', 'matplotlib', 'random', 'matplotlib', 'request', 'ZipFile', 'pyplot', 'Counter', 'pandas', 'seaborn', 'pandas', 're', 'pandas', 'numpy', 'datetime', 'pandas', 're', 'os', 'pandas', 'matplotlib', 'matplotlib', 'pandas', 'numpy', 'matplotlib', 'seaborn', 'pandas', 're', 'datetime', 'datetime', 'csv', 'matplotlib', 'Counter', 'pandas', 'numpy', 'matplotlib', 'seaborn', 're', 'pandas', 'numpy', 'datetime', 'pandas', 'os', 'os', 'pandas', 'numpy', 'matplotlib', 'seaborn', 'os', 're', 'numpy', 'pandas', 'missingno', 'seaborn', 'matplotlib', 'pandas', 'numpy', 're', 'request', 'ZipFile', 'pyplot', 'Counter', 'browserhistory', 'pandas', 'urlparse', 'pandas', 'numpy', 'matplotlib', 'seaborn', 'missingno', 'os', 'pandas', 'matplotlib', 'pandas', 'io', 'random', 'matplotlib', 'random', 'matplotlib', 'request', 'ZipFile', 'pyplot', 'Counter', 'pandas', 'seaborn', 'pandas', 're', 'pandas', 'numpy', 'datetime', 'pandas', 're', 'os', 'pandas', 'matplotlib', 'matplotlib', 'pandas', 'numpy', 'matplotlib', 'seaborn', 'pandas', 're', 'datetime', 'datetime', 'csv', 'matplotlib', 'Counter', 'pandas', 'numpy', 'matplotlib', 'seaborn', 're', 'pandas', 'numpy', 'datetime', 'pandas', 'os', 'os', 'pandas', 'numpy', 'matplotlib', 'seaborn', 'os', 're', 'numpy', 'pandas', 'missingno', 'seaborn', 'matplotlib', 'pandas', 'numpy', 're', 'request', 'ZipFile', 'pyplot', 'Counter', 'browserhistory', 'pandas', 'urlparse', 'pandas', 'numpy', 'matplotlib', 'seaborn', 'missingno']\n",
      "['pandas', 'numpy', 'matplotlib', 'seaborn']\n",
      "['os', 're']\n",
      "['numpy', 'pandas', 'missingno', 'seaborn', 'matplotlib']\n",
      "['pandas', 'numpy', 're']\n",
      "['request', 'ZipFile', 'pyplot', 'Counter']\n",
      "[]\n",
      "['browserhistory', 'pandas', 'urlparse']\n",
      "['pandas', 'numpy', 'matplotlib', 'seaborn', 'missingno']\n"
     ]
    }
   ],
   "source": [
    "processor.start()"
   ]
  },
  {
   "cell_type": "code",
   "execution_count": null,
   "metadata": {},
   "outputs": [],
   "source": []
  },
  {
   "cell_type": "code",
   "execution_count": null,
   "metadata": {},
   "outputs": [],
   "source": []
  }
 ],
 "metadata": {
  "kernelspec": {
   "display_name": "Python 3 (ipykernel)",
   "language": "python",
   "name": "python3"
  },
  "language_info": {
   "codemirror_mode": {
    "name": "ipython",
    "version": 3
   },
   "file_extension": ".py",
   "mimetype": "text/x-python",
   "name": "python",
   "nbconvert_exporter": "python",
   "pygments_lexer": "ipython3",
   "version": "3.9.12"
  },
  "toc": {
   "base_numbering": 1,
   "nav_menu": {},
   "number_sections": true,
   "sideBar": true,
   "skip_h1_title": false,
   "title_cell": "Table of Contents",
   "title_sidebar": "Contents",
   "toc_cell": false,
   "toc_position": {},
   "toc_section_display": true,
   "toc_window_display": false
  },
  "varInspector": {
   "cols": {
    "lenName": 16,
    "lenType": 16,
    "lenVar": 40
   },
   "kernels_config": {
    "python": {
     "delete_cmd_postfix": "",
     "delete_cmd_prefix": "del ",
     "library": "var_list.py",
     "varRefreshCmd": "print(var_dic_list())"
    },
    "r": {
     "delete_cmd_postfix": ") ",
     "delete_cmd_prefix": "rm(",
     "library": "var_list.r",
     "varRefreshCmd": "cat(var_dic_list()) "
    }
   },
   "types_to_exclude": [
    "module",
    "function",
    "builtin_function_or_method",
    "instance",
    "_Feature"
   ],
   "window_display": false
  }
 },
 "nbformat": 4,
 "nbformat_minor": 2
}
